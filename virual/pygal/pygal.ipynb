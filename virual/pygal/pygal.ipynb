{
 "cells": [
  {
   "cell_type": "markdown",
   "id": "be732e33-7bf9-4d08-9639-185df0555f09",
   "metadata": {},
   "source": [
    "## 使用 Pygal 模拟掷骰子"
   ]
  },
  {
   "cell_type": "code",
   "execution_count": null,
   "outputs": [],
   "source": [
    "!pip install pygal"
   ],
   "metadata": {
    "collapsed": false
   },
   "id": "578f9c7231502f58"
  },
  {
   "cell_type": "code",
   "execution_count": 2,
   "id": "083347f3-9fa9-4183-a3b9-5e89f8da829a",
   "metadata": {},
   "outputs": [
    {
     "name": "stdout",
     "output_type": "stream",
     "text": [
      "[3, 4, 1, 2, 2, 3, 6, 5, 5, 6, 6, 3, 5, 6, 6, 4, 1, 2, 3, 1, 3, 3, 2, 4, 4, 4, 4, 2, 5, 5, 3, 5, 5, 1, 5, 4, 3, 2, 3, 5, 3, 3, 1, 3, 1, 2, 4, 5, 6, 4, 5, 2, 4, 3, 1, 4, 3, 5, 1, 6, 4, 1, 5, 3, 4, 1, 6, 4, 5, 5, 2, 4, 1, 3, 2, 3, 3, 3, 6, 5, 1, 3, 5, 1, 2, 1, 4, 4, 4, 6, 2, 5, 6, 1, 6, 5, 4, 1, 2, 6]\n"
     ]
    }
   ],
   "source": [
    "# die_visual.py\n",
    "from die import Die\n",
    "\n",
    "# 创建一个 D6\n",
    "die = Die()\n",
    "\n",
    "# 掷几次骰子，并将结果存储在一个列表中\n",
    "results = []\n",
    "for roll_num in range(100):\n",
    "    result = die.roll()\n",
    "    results.append(result)\n",
    "\n",
    "print(results)"
   ]
  },
  {
   "cell_type": "markdown",
   "id": "63d4170b-1484-4111-9146-907921f38427",
   "metadata": {},
   "source": [
    "### 分析结果"
   ]
  },
  {
   "cell_type": "code",
   "execution_count": 3,
   "id": "a25b8b01-877a-452d-b0d4-56b43979cecb",
   "metadata": {},
   "outputs": [
    {
     "name": "stdout",
     "output_type": "stream",
     "text": [
      "[16, 13, 17, 22, 16, 16]\n"
     ]
    }
   ],
   "source": [
    "# die_visual.py\n",
    "from die import Die\n",
    "\n",
    "# 创建一个 D6\n",
    "die = Die()\n",
    "\n",
    "# 掷几次骰子，并将结果存储在一个列表中\n",
    "results = []\n",
    "for roll_num in range(100):\n",
    "    result = die.roll()\n",
    "    results.append(result)\n",
    "\n",
    "# 分析结果\n",
    "frequencies = []\n",
    "for value in range(1, die.num_sides+1):\n",
    "    frequency = results.count(value)\n",
    "    frequencies.append(frequency)\n",
    "\n",
    "print(frequencies)"
   ]
  },
  {
   "cell_type": "markdown",
   "id": "81ab556c-c2eb-4866-9f3f-3f4ca4e32265",
   "metadata": {},
   "source": [
    "### 绘制直方图"
   ]
  },
  {
   "cell_type": "code",
   "execution_count": 6,
   "id": "135ffa80-c62f-4d8a-9212-f3a323b99a2b",
   "metadata": {},
   "outputs": [
    {
     "name": "stdout",
     "output_type": "stream",
     "text": [
      "Looking in indexes: https://pypi.tuna.tsinghua.edu.cn/simple\n",
      "Requirement already satisfied: pygal in /Library/Frameworks/Python.framework/Versions/3.12/lib/python3.12/site-packages (3.0.4)\n",
      "Requirement already satisfied: importlib-metadata in /Library/Frameworks/Python.framework/Versions/3.12/lib/python3.12/site-packages (from pygal) (7.0.1)\n",
      "Requirement already satisfied: zipp>=0.5 in /Library/Frameworks/Python.framework/Versions/3.12/lib/python3.12/site-packages (from importlib-metadata->pygal) (3.17.0)\n"
     ]
    }
   ],
   "source": [
    "!pip install pygal"
   ]
  },
  {
   "cell_type": "code",
   "execution_count": 7,
   "id": "01498b4d-16e1-4b0e-82ca-36bedcc25ebe",
   "metadata": {},
   "outputs": [],
   "source": [
    "import pygal\n",
    "\n",
    "# 创建一个 D6\n",
    "die = Die()\n",
    "\n",
    "# 掷几次骰子，并将结果存储在一个列表中\n",
    "results = []\n",
    "for roll_num in range(100):\n",
    "    result = die.roll()\n",
    "    results.append(result)\n",
    "\n",
    "# 分析结果\n",
    "frequencies = []\n",
    "for value in range(1, die.num_sides+1):\n",
    "    frequency = results.count(value)\n",
    "    frequencies.append(frequency)\n",
    "\n",
    "# 对结果进行可视化\n",
    "hist = pygal.Bar()\n",
    "hist.title = \"Results of rolling one D6 1000 times.\"\n",
    "hist.x_label = ['1', '2', '3', '4', '5', '6']\n",
    "hist.x_title = \"Result\"\n",
    "hist.y_title = \"Frequency of Result\"\n",
    "\n",
    "hist.add('D6', frequencies)\n",
    "hist.render_to_file('die_visual.svg')"
   ]
  },
  {
   "cell_type": "markdown",
   "id": "6dff7bb6-e6af-4a30-9b6e-cbad7381422d",
   "metadata": {},
   "source": [
    "### 同时掷两个骰子"
   ]
  },
  {
   "cell_type": "code",
   "execution_count": 10,
   "id": "945a01df-d3e2-4327-a852-2202c6f031a5",
   "metadata": {},
   "outputs": [],
   "source": [
    "# dice_visual.py\n",
    "import pygal\n",
    "\n",
    "from die import Die\n",
    "\n",
    "# 创建两个骰子\n",
    "die_1 = Die()\n",
    "die_2 = Die()\n",
    "\n",
    "# 掷骰子多次，并将结果存储到一个列表中\n",
    "results = []\n",
    "for roll_num in range(1000):\n",
    "    result = die_1.roll() + die_2.roll()\n",
    "    results.append(result)\n",
    "\n",
    "# 分析结果\n",
    "frequencies = []\n",
    "max_result = die_1.num_sides + die_2.num_sides\n",
    "for value in range(2, max_result+1):\n",
    "    frequency = results.count(value)\n",
    "    frequencies.append(frequency)\n",
    "\n",
    "# 可视化结果\n",
    "hist = pygal.Bar()\n",
    "\n",
    "hist.title = \"Results of rolling two D6 dice 1000 times.\"\n",
    "hist.x_label = ['2', '3', '4', '5', '6', '7', '8', '9', '10', '11', '12']\n",
    "hist.x_title = \"Result\"\n",
    "hist.y_title = \"Frequency of Result\"\n",
    "\n",
    "hist.add('D6 + D6', frequencies)\n",
    "hist.render_to_file('dice_visual.svg')"
   ]
  },
  {
   "cell_type": "markdown",
   "id": "0fe04e6b-16b4-4d92-82f1-2bb1afb18584",
   "metadata": {},
   "source": [
    "### 同时掷两个面数不同的骰子"
   ]
  },
  {
   "cell_type": "code",
   "execution_count": 15,
   "id": "d7d37768-5cc9-4bde-bb67-a56565440c89",
   "metadata": {},
   "outputs": [],
   "source": [
    "# different_dice.py\n",
    "from die import Die\n",
    "\n",
    "import pygal\n",
    "\n",
    "# 创建一个D6和一个D10\n",
    "die_1 = Die()\n",
    "die_2 = Die(10)\n",
    "\n",
    "# 掷骰子多次，并将结果存储到一个列表中\n",
    "results = []\n",
    "for roll_num in range(50000):\n",
    "    result = die_1.roll() + die_2.roll()\n",
    "    results.append(result)\n",
    "\n",
    "# 分析结果\n",
    "frequencies = []\n",
    "max_result = die_1.num_sides + die_2.num_sides\n",
    "for value in range(2, max_result+1):\n",
    "    frequency = results.count(value)\n",
    "    frequencies.append(frequency)\n",
    "\n",
    "# 可视化结果\n",
    "hist = pygal.Bar()\n",
    "\n",
    "hist.title = \"Results of rolling a D6 and a D10 50,000 times.\"\n",
    "hist.x_label = ['2', '3', '4', '5', '6', '7', '8', '9', '10', '11', '12', '13', '14', '15', '16']\n",
    "hist.x_title = \"Result\"\n",
    "hist.y_title = \"Frequency of Result\"\n",
    "\n",
    "hist.add('D6 + D10', frequencies)\n",
    "hist.render_to_file('dice_visual.svg')"
   ]
  }
 ],
 "metadata": {
  "kernelspec": {
   "display_name": "Python 3 (ipykernel)",
   "language": "python",
   "name": "python3"
  },
  "language_info": {
   "codemirror_mode": {
    "name": "ipython",
    "version": 3
   },
   "file_extension": ".py",
   "mimetype": "text/x-python",
   "name": "python",
   "nbconvert_exporter": "python",
   "pygments_lexer": "ipython3",
   "version": "3.12.1"
  }
 },
 "nbformat": 4,
 "nbformat_minor": 5
}
