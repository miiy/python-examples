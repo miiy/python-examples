{
 "cells": [
  {
   "cell_type": "markdown",
   "id": "bdb1cb44-7cf9-46e5-9074-ae31238878ef",
   "metadata": {},
   "source": [
    "# 日期和时间"
   ]
  },
  {
   "cell_type": "markdown",
   "id": "4d3b8688-11a4-42ac-ba39-e3fba1ac1734",
   "metadata": {},
   "source": [
    "## 当前时间戳"
   ]
  },
  {
   "cell_type": "code",
   "execution_count": 1,
   "id": "89a27ab6-c618-43ad-bd61-12f2db71fcaf",
   "metadata": {},
   "outputs": [
    {
     "name": "stdout",
     "output_type": "stream",
     "text": [
      "current timestamp: 1703235032.745114\n"
     ]
    }
   ],
   "source": [
    "import time\n",
    "\n",
    "ticks = time.time()\n",
    "print(\"current timestamp:\", ticks)"
   ]
  },
  {
   "cell_type": "markdown",
   "id": "e95adbe9-a737-45b2-b0f9-4858d6f8ee8f",
   "metadata": {},
   "source": [
    "## 获取当前时间"
   ]
  },
  {
   "cell_type": "code",
   "execution_count": 5,
   "id": "0372b170-9f15-4caf-a4a9-ab3b0aa84807",
   "metadata": {},
   "outputs": [
    {
     "name": "stdout",
     "output_type": "stream",
     "text": [
      "local time: time.struct_time(tm_year=2023, tm_mon=12, tm_mday=22, tm_hour=16, tm_min=52, tm_sec=43, tm_wday=4, tm_yday=356, tm_isdst=0)\n",
      "2023\n"
     ]
    }
   ],
   "source": [
    "import time\n",
    "\n",
    "localtime = time.localtime(time.time())\n",
    "print(\"local time:\", localtime)\n",
    "print(localtime.tm_year)"
   ]
  },
  {
   "cell_type": "markdown",
   "id": "8ab612d6-82ad-40b7-9fe2-39888a37a0e6",
   "metadata": {},
   "source": [
    "## 获取格式化的时间"
   ]
  },
  {
   "cell_type": "code",
   "execution_count": 9,
   "id": "bc9c0ac0-8160-42d4-9266-95e31552906a",
   "metadata": {},
   "outputs": [
    {
     "name": "stdout",
     "output_type": "stream",
     "text": [
      "local time: Fri Dec 22 16:53:54 2023\n"
     ]
    }
   ],
   "source": [
    "import time\n",
    "localtime = time.asctime(time.localtime(time.time()))\n",
    "print(\"local time:\", localtime)"
   ]
  },
  {
   "cell_type": "markdown",
   "id": "76bfbe38-5a5f-44ba-b3f3-e673554f603e",
   "metadata": {},
   "source": [
    "## 格式化日期"
   ]
  },
  {
   "cell_type": "code",
   "execution_count": 12,
   "id": "71da29b4-3bd7-46e9-a382-eecb74b9971b",
   "metadata": {},
   "outputs": [
    {
     "name": "stdout",
     "output_type": "stream",
     "text": [
      "2023-12-22 16:55:19\n",
      "Fri Dec 22 16:55:19 2023\n",
      "1459175064.0\n"
     ]
    }
   ],
   "source": [
    "import time\n",
    "\n",
    "\n",
    "# 格式化成2016-03-20 11:45:39形式\n",
    "print (time.strftime(\"%Y-%m-%d %H:%M:%S\", time.localtime()))\n",
    "\n",
    "# 格式化成Sat Mar 28 22:24:24 2016形式\n",
    "print (time.strftime(\"%a %b %d %H:%M:%S %Y\", time.localtime()))\n",
    " \n",
    "# 将格式字符串转换为时间戳\n",
    "a = \"Sat Mar 28 22:24:24 2016\"\n",
    "print (time.mktime(time.strptime(a,\"%a %b %d %H:%M:%S %Y\")))"
   ]
  }
 ],
 "metadata": {
  "kernelspec": {
   "display_name": "Python 3 (ipykernel)",
   "language": "python",
   "name": "python3"
  },
  "language_info": {
   "codemirror_mode": {
    "name": "ipython",
    "version": 3
   },
   "file_extension": ".py",
   "mimetype": "text/x-python",
   "name": "python",
   "nbconvert_exporter": "python",
   "pygments_lexer": "ipython3",
   "version": "3.8.4"
  }
 },
 "nbformat": 4,
 "nbformat_minor": 5
}
