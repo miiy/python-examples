{
 "cells": [
  {
   "cell_type": "markdown",
   "source": [
    "## pprint --- 数据美化输出\n",
    "\n",
    "<https://docs.python.org/zh-cn/3/library/pprint.html>"
   ],
   "metadata": {
    "collapsed": false
   },
   "id": "351376e73704ef25"
  },
  {
   "cell_type": "code",
   "execution_count": 5,
   "outputs": [
    {
     "name": "stdout",
     "output_type": "stream",
     "text": [
      "[   ['spam', 'eggs', 'lumberjack', 'knights', 'ni'],\n",
      "    'spam',\n",
      "    'eggs',\n",
      "    'lumberjack',\n",
      "    'knights',\n",
      "    'ni']\n"
     ]
    }
   ],
   "source": [
    "import pprint\n",
    "\n",
    "stuff = ['spam', 'eggs', 'lumberjack', 'knights', 'ni']\n",
    "stuff.insert(0, stuff[:])\n",
    "pp = pprint.PrettyPrinter(indent=4)\n",
    "pp.pprint(stuff)"
   ],
   "metadata": {
    "collapsed": false,
    "ExecuteTime": {
     "end_time": "2023-12-26T06:22:50.495963Z",
     "start_time": "2023-12-26T06:22:50.487342Z"
    }
   },
   "id": "285cd3fdb98a9826"
  },
  {
   "cell_type": "code",
   "execution_count": 6,
   "outputs": [
    {
     "name": "stdout",
     "output_type": "stream",
     "text": [
      "[['spam', 'eggs', 'lumberjack',\n",
      "  'knights', 'ni'],\n",
      " 'spam', 'eggs', 'lumberjack', 'knights',\n",
      " 'ni']\n"
     ]
    }
   ],
   "source": [
    "pp = pprint.PrettyPrinter(width=41, compact=True)\n",
    "pp.pprint(stuff)"
   ],
   "metadata": {
    "collapsed": false,
    "ExecuteTime": {
     "end_time": "2023-12-26T06:23:31.562794Z",
     "start_time": "2023-12-26T06:23:31.533049Z"
    }
   },
   "id": "f1686c48819cdc91"
  },
  {
   "cell_type": "code",
   "execution_count": 7,
   "outputs": [
    {
     "name": "stdout",
     "output_type": "stream",
     "text": [
      "('spam', ('eggs', ('lumberjack', ('knights', ('ni', ('dead', (...)))))))\n"
     ]
    }
   ],
   "source": [
    "tup = ('spam', ('eggs', ('lumberjack', ('knights', ('ni', ('dead',\n",
    "                                                           ('parrot', ('fresh fruit',))))))))\n",
    "pp = pprint.PrettyPrinter(depth=6)\n",
    "pp.pprint(tup)"
   ],
   "metadata": {
    "collapsed": false,
    "ExecuteTime": {
     "end_time": "2023-12-26T07:12:37.225949Z",
     "start_time": "2023-12-26T07:12:37.180364Z"
    }
   },
   "id": "5bb44e9e3705fd3e"
  },
  {
   "cell_type": "code",
   "execution_count": null,
   "outputs": [],
   "source": [],
   "metadata": {
    "collapsed": false
   },
   "id": "19ce5f37df49905"
  }
 ],
 "metadata": {
  "kernelspec": {
   "display_name": "Python 3",
   "language": "python",
   "name": "python3"
  },
  "language_info": {
   "codemirror_mode": {
    "name": "ipython",
    "version": 2
   },
   "file_extension": ".py",
   "mimetype": "text/x-python",
   "name": "python",
   "nbconvert_exporter": "python",
   "pygments_lexer": "ipython2",
   "version": "2.7.6"
  }
 },
 "nbformat": 4,
 "nbformat_minor": 5
}
