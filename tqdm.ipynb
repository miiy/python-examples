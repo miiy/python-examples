{
 "cells": [
  {
   "cell_type": "markdown",
   "source": [
    "# tqdm\n",
    "\n",
    "<https://tqdm.github.io/>"
   ],
   "metadata": {
    "collapsed": false
   },
   "id": "888ecb845e34a72b"
  },
  {
   "cell_type": "code",
   "execution_count": 1,
   "outputs": [
    {
     "name": "stderr",
     "output_type": "stream",
     "text": [
      "100%|██████████| 10000/10000 [00:00<00:00, 2463469.99it/s]\n"
     ]
    }
   ],
   "source": [
    "from tqdm import tqdm\n",
    "for i in tqdm(range(10000)):\n",
    "    pass"
   ],
   "metadata": {
    "collapsed": false,
    "ExecuteTime": {
     "end_time": "2024-01-18T08:55:53.471097Z",
     "start_time": "2024-01-18T08:55:53.325967Z"
    }
   },
   "id": "4b25dba73ce142b2"
  },
  {
   "cell_type": "markdown",
   "source": [
    "```bash\n",
    "$ seq 9999999 | tqdm --bytes | wc -l\n",
    "109MB [00:03, 32.1MB/s] \n",
    " 10000000\n",
    "\n",
    "```"
   ],
   "metadata": {
    "collapsed": false
   },
   "id": "64c1da9cc47891c"
  },
  {
   "cell_type": "code",
   "execution_count": 3,
   "outputs": [
    {
     "name": "stderr",
     "output_type": "stream",
     "text": [
      "100%|██████████| 100/100 [00:10<00:00,  9.49it/s]\n"
     ]
    }
   ],
   "source": [
    "from tqdm import trange\n",
    "import time\n",
    "\n",
    "for i in trange(100):\n",
    "    time.sleep(0.1)\n",
    "    pass"
   ],
   "metadata": {
    "collapsed": false,
    "ExecuteTime": {
     "end_time": "2024-01-18T08:59:35.866820Z",
     "start_time": "2024-01-18T08:59:25.298151Z"
    }
   },
   "id": "cbe7c64af38541b6"
  },
  {
   "cell_type": "code",
   "execution_count": 6,
   "outputs": [
    {
     "name": "stderr",
     "output_type": "stream",
     "text": [
      "desc: 100%|##########| 100/100 [00:10<00:00,  9.28it/s]\n"
     ]
    }
   ],
   "source": [
    "from tqdm import tqdm\n",
    "import time\n",
    "\n",
    "for i in tqdm(range(100), ascii=True, desc=\"desc\"):\n",
    "    time.sleep(0.1)"
   ],
   "metadata": {
    "collapsed": false,
    "ExecuteTime": {
     "end_time": "2024-01-18T09:01:43.398362Z",
     "start_time": "2024-01-18T09:01:32.612497Z"
    }
   },
   "id": "91fd7795397be42c"
  },
  {
   "cell_type": "code",
   "execution_count": null,
   "outputs": [],
   "source": [],
   "metadata": {
    "collapsed": false
   },
   "id": "802e2c853e7272b2"
  }
 ],
 "metadata": {
  "kernelspec": {
   "display_name": "Python 3",
   "language": "python",
   "name": "python3"
  },
  "language_info": {
   "codemirror_mode": {
    "name": "ipython",
    "version": 2
   },
   "file_extension": ".py",
   "mimetype": "text/x-python",
   "name": "python",
   "nbconvert_exporter": "python",
   "pygments_lexer": "ipython2",
   "version": "2.7.6"
  }
 },
 "nbformat": 4,
 "nbformat_minor": 5
}
