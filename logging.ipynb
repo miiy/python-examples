{
 "cells": [
  {
   "cell_type": "markdown",
   "source": [
    "## logging --- Python 的日志记录工具\n",
    "\n",
    "<https://docs.python.org/zh-cn/3/library/logging.html>"
   ],
   "metadata": {
    "collapsed": false
   },
   "id": "f9e4531e2c965d5d"
  },
  {
   "cell_type": "code",
   "execution_count": 1,
   "outputs": [
    {
     "name": "stderr",
     "output_type": "stream",
     "text": [
      "WARNING:root:Watch out!\n"
     ]
    }
   ],
   "source": [
    "import logging\n",
    "logging.warning('Watch out!')"
   ],
   "metadata": {
    "collapsed": false,
    "ExecuteTime": {
     "end_time": "2023-12-26T07:52:37.157504Z",
     "start_time": "2023-12-26T07:52:37.147470Z"
    }
   },
   "id": "c6749a413ac7337b"
  }
 ],
 "metadata": {
  "kernelspec": {
   "display_name": "Python 3",
   "language": "python",
   "name": "python3"
  },
  "language_info": {
   "codemirror_mode": {
    "name": "ipython",
    "version": 2
   },
   "file_extension": ".py",
   "mimetype": "text/x-python",
   "name": "python",
   "nbconvert_exporter": "python",
   "pygments_lexer": "ipython2",
   "version": "2.7.6"
  }
 },
 "nbformat": 4,
 "nbformat_minor": 5
}
