{
 "cells": [
  {
   "cell_type": "markdown",
   "source": [
    "## 安装 Django\n",
    "\n",
    "```bash\n",
    "python -m pip install Django\n",
    "```\n",
    "\n",
    "## 查看版本\n",
    "\n",
    "```bash\n",
    "python -m django --version\n",
    "```\n",
    "\n",
    "## 创建项目\n",
    "\n",
    "```bash\n",
    "django-admin startproject mysite\n",
    "```\n",
    "\n",
    "### 运行项目\n",
    "\n",
    "```bash\n",
    "python manage.py runserver\n",
    "```\n",
    "\n",
    "### 创建投票应用\n",
    "\n",
    "```bash\n",
    "python manage.py startapp polls\n",
    "```"
   ],
   "metadata": {
    "collapsed": false
   },
   "id": "f385430671d0b1fb"
  }
 ],
 "metadata": {
  "kernelspec": {
   "display_name": "Python 3",
   "language": "python",
   "name": "python3"
  },
  "language_info": {
   "codemirror_mode": {
    "name": "ipython",
    "version": 2
   },
   "file_extension": ".py",
   "mimetype": "text/x-python",
   "name": "python",
   "nbconvert_exporter": "python",
   "pygments_lexer": "ipython2",
   "version": "2.7.6"
  }
 },
 "nbformat": 4,
 "nbformat_minor": 5
}
