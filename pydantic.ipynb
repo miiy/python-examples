{
 "cells": [
  {
   "cell_type": "markdown",
   "source": [
    "## Pydantic\n",
    "\n",
    "Pydantic 是 Python 中使用最广泛的数据验证库"
   ],
   "metadata": {
    "collapsed": false
   },
   "id": "1b7f41a28f575409"
  },
  {
   "cell_type": "markdown",
   "source": [
    "## Pydantic Example"
   ],
   "metadata": {
    "collapsed": false
   },
   "id": "db51c634d6f6be93"
  },
  {
   "cell_type": "code",
   "execution_count": 4,
   "outputs": [
    {
     "name": "stdout",
     "output_type": "stream",
     "text": [
      "datetime.datetime(2020, 1, 2, 3, 4, 5, tzinfo=datetime.timezone.utc)\n",
      "(10, 20)\n"
     ]
    }
   ],
   "source": [
    "from datetime import datetime\n",
    "from typing import Tuple\n",
    "\n",
    "from pydantic import BaseModel\n",
    "\n",
    "class Delivery(BaseModel):\n",
    "    timestamp: datetime\n",
    "    dimensions: Tuple[int, int]\n",
    "\n",
    "m = Delivery(timestamp='2020-01-02T03:04:05Z', dimensions=['10', '20'])\n",
    "\n",
    "print(repr(m.timestamp))\n",
    "print(m.dimensions)"
   ],
   "metadata": {
    "collapsed": false,
    "ExecuteTime": {
     "end_time": "2024-01-08T06:38:03.113061Z",
     "start_time": "2024-01-08T06:38:03.099024Z"
    }
   },
   "id": "838dc7a9e7584474"
  },
  {
   "cell_type": "markdown",
   "source": [
    "## Validation Successful"
   ],
   "metadata": {
    "collapsed": false
   },
   "id": "ac9042df73edbd6b"
  },
  {
   "cell_type": "code",
   "execution_count": 24,
   "outputs": [
    {
     "name": "stdout",
     "output_type": "stream",
     "text": [
      "123\n",
      "{'id': 123, 'name': 'John Doe', 'signup_ts': datetime.datetime(2019, 6, 1, 12, 22), 'tastes': {'wine': 9, 'cheese': 7, 'cabbage': 1}}\n"
     ]
    }
   ],
   "source": [
    "from datetime import datetime\n",
    "\n",
    "from pydantic import BaseModel, PositiveInt\n",
    "\n",
    "\n",
    "class User(BaseModel):\n",
    "    id: int\n",
    "    name: str = 'John Doe'\n",
    "    signup_ts: datetime | None\n",
    "    tastes: dict[str, PositiveInt]\n",
    "    \n",
    "external_data = {\n",
    "    'id': 123,\n",
    "    'signup_ts': '2019-06-01 12:22',\n",
    "    'tastes': {\n",
    "        'wine': 9,\n",
    "        b'cheese': 7,\n",
    "        'cabbage': '1'\n",
    "    }\n",
    "}\n",
    "\n",
    "user = User(**external_data)\n",
    "\n",
    "print(user.id)\n",
    "\n",
    "print(user.dict())"
   ],
   "metadata": {
    "collapsed": false,
    "ExecuteTime": {
     "end_time": "2024-01-08T07:07:56.214043Z",
     "start_time": "2024-01-08T07:07:56.136377Z"
    }
   },
   "id": "60624e2cd1fee3a4"
  },
  {
   "cell_type": "markdown",
   "source": [
    "## Validation Error"
   ],
   "metadata": {
    "collapsed": false
   },
   "id": "1c8835532cb8dc82"
  },
  {
   "cell_type": "code",
   "execution_count": 15,
   "outputs": [
    {
     "name": "stdout",
     "output_type": "stream",
     "text": [
      "[{'loc': ('id',), 'msg': 'value is not a valid integer', 'type': 'type_error.integer'}]\n"
     ]
    }
   ],
   "source": [
    "from pydantic import ValidationError\n",
    "\n",
    "class User(BaseModel):\n",
    "    id: int\n",
    "    name: str = 'John Doe'\n",
    "    signup_ts: datetime | None\n",
    "    tastes: dict[str, PositiveInt]\n",
    "\n",
    "external_data = {'id': 'not an int', 'tastes': {}}\n",
    "\n",
    "try:\n",
    "    User(**external_data)\n",
    "except ValidationError as e:\n",
    "    print(e.errors())"
   ],
   "metadata": {
    "collapsed": false,
    "ExecuteTime": {
     "end_time": "2024-01-08T06:55:32.627289Z",
     "start_time": "2024-01-08T06:55:32.585447Z"
    }
   },
   "id": "5dce21d67163841e"
  },
  {
   "cell_type": "markdown",
   "source": [
    "## Basic model usage"
   ],
   "metadata": {
    "collapsed": false
   },
   "id": "7ca6f7f814c75d54"
  },
  {
   "cell_type": "code",
   "execution_count": 23,
   "outputs": [
    {
     "data": {
      "text/plain": "{'id': 123, 'name': 'Jane Doe'}"
     },
     "execution_count": 23,
     "metadata": {},
     "output_type": "execute_result"
    }
   ],
   "source": [
    "from pydantic import BaseModel\n",
    "\n",
    "class User(BaseModel):\n",
    "    id: int\n",
    "    name: str = 'Jane Doe'\n",
    "    \n",
    "user = User(id=123)\n",
    "\n",
    "assert user.id == 123\n",
    "assert isinstance(user.id, int)\n",
    "user.dict()"
   ],
   "metadata": {
    "collapsed": false,
    "ExecuteTime": {
     "end_time": "2024-01-08T07:07:40.256301Z",
     "start_time": "2024-01-08T07:07:40.191854Z"
    }
   },
   "id": "fcda694496f1ce1b"
  },
  {
   "cell_type": "markdown",
   "source": [
    "## Nested models 嵌套模型"
   ],
   "metadata": {
    "collapsed": false
   },
   "id": "b620db624febbef6"
  },
  {
   "cell_type": "code",
   "execution_count": 27,
   "outputs": [
    {
     "name": "stdout",
     "output_type": "stream",
     "text": [
      "foo=Foo(count=4, size=None) bars=[Bar(apple='x1', banana='y'), Bar(apple='x2', banana='y')]\n",
      "{'foo': {'count': 4, 'size': None}, 'bars': [{'apple': 'x1', 'banana': 'y'}, {'apple': 'x2', 'banana': 'y'}]}\n"
     ]
    }
   ],
   "source": [
    "from typing import List, Optional\n",
    "\n",
    "from pydantic import BaseModel\n",
    "\n",
    "class Foo(BaseModel):\n",
    "    count: int\n",
    "    size: Optional[float] = None\n",
    "\n",
    "class Bar(BaseModel):\n",
    "    apple: str = 'x'\n",
    "    banana: str = 'y'\n",
    "\n",
    "class Spam(BaseModel):\n",
    "    foo: Foo\n",
    "    bars: List[Bar]\n",
    "\n",
    "m = Spam(foo={'count': 4}, bars = [{'apple': 'x1'}, {'apple': 'x2'}])\n",
    "print(m)\n",
    "print(m.dict())"
   ],
   "metadata": {
    "collapsed": false,
    "ExecuteTime": {
     "end_time": "2024-01-08T07:13:36.373223Z",
     "start_time": "2024-01-08T07:13:36.347973Z"
    }
   },
   "id": "5a428c0a74bb5cc1"
  },
  {
   "cell_type": "code",
   "execution_count": null,
   "outputs": [],
   "source": [],
   "metadata": {
    "collapsed": false
   },
   "id": "db59a5f8b02a9842"
  }
 ],
 "metadata": {
  "kernelspec": {
   "display_name": "Python 3",
   "language": "python",
   "name": "python3"
  },
  "language_info": {
   "codemirror_mode": {
    "name": "ipython",
    "version": 2
   },
   "file_extension": ".py",
   "mimetype": "text/x-python",
   "name": "python",
   "nbconvert_exporter": "python",
   "pygments_lexer": "ipython2",
   "version": "2.7.6"
  }
 },
 "nbformat": 4,
 "nbformat_minor": 5
}
