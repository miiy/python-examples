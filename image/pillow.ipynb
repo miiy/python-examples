{
 "cells": [
  {
   "cell_type": "markdown",
   "source": [
    "# Pillow\n",
    "\n",
    "<https://github.com/python-pillow/Pillow>\n",
    "\n",
    "<https://pillow.readthedocs.io/en/stable/>"
   ],
   "metadata": {
    "collapsed": false
   },
   "id": "dfe0ac96449e7f71"
  },
  {
   "cell_type": "code",
   "execution_count": null,
   "outputs": [],
   "source": [
    "!pip install Pillow"
   ],
   "metadata": {
    "collapsed": false
   },
   "id": "47ff50fcba37c2cf"
  },
  {
   "cell_type": "code",
   "execution_count": 3,
   "outputs": [
    {
     "name": "stdout",
     "output_type": "stream",
     "text": [
      "PNG (50, 30) RGBA\n"
     ]
    }
   ],
   "source": [
    "from PIL import Image\n",
    "im = Image.open(\"test.png\")\n",
    "print(im.format, im.size, im.mode)"
   ],
   "metadata": {
    "collapsed": false,
    "ExecuteTime": {
     "end_time": "2024-01-23T03:30:36.695675Z",
     "start_time": "2024-01-23T03:30:36.675431Z"
    }
   },
   "id": "dcd3a23f88a3485b"
  },
  {
   "cell_type": "code",
   "execution_count": 4,
   "outputs": [],
   "source": [
    "im.show()"
   ],
   "metadata": {
    "collapsed": false,
    "ExecuteTime": {
     "end_time": "2024-01-23T03:30:57.390626Z",
     "start_time": "2024-01-23T03:30:57.082870Z"
    }
   },
   "id": "199ee95dc87a77a"
  },
  {
   "cell_type": "code",
   "execution_count": null,
   "outputs": [],
   "source": [
    "Image.fromarray(im)"
   ],
   "metadata": {
    "collapsed": false
   },
   "id": "74f99166d76ad395"
  }
 ],
 "metadata": {
  "kernelspec": {
   "display_name": "Python 3",
   "language": "python",
   "name": "python3"
  },
  "language_info": {
   "codemirror_mode": {
    "name": "ipython",
    "version": 2
   },
   "file_extension": ".py",
   "mimetype": "text/x-python",
   "name": "python",
   "nbconvert_exporter": "python",
   "pygments_lexer": "ipython2",
   "version": "2.7.6"
  }
 },
 "nbformat": 4,
 "nbformat_minor": 5
}
