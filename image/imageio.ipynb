{
 "cells": [
  {
   "cell_type": "markdown",
   "source": [
    "# imageio\n",
    "\n",
    "<https://github.com/imageio/imageio>\n",
    "\n",
    "Imageio 是一个 Python 库，它提供了一个简单的接口来读取和写入各种图像数据，包括动画图像、视频、体积数据和科学格式。\n",
    "\n",
    "API\n",
    "\n",
    "- imread() - for reading\n",
    "- imwrite() - for writing\n",
    "- imiter() - for iterating image series (animations/videos/OME-TIFF/...)\n",
    "- improps() - for standardized metadata\n",
    "- immeta() - for format-specific metadata\n",
    "- imopen() - for advanced usage"
   ],
   "metadata": {
    "collapsed": false
   },
   "id": "80924133fe19b060"
  },
  {
   "cell_type": "code",
   "execution_count": null,
   "outputs": [],
   "source": [
    "!pip install imageio"
   ],
   "metadata": {
    "collapsed": false
   },
   "id": "cf4b2e7aab1c4866"
  },
  {
   "cell_type": "code",
   "execution_count": 2,
   "outputs": [
    {
     "data": {
      "text/plain": "(30, 50, 4)"
     },
     "execution_count": 2,
     "metadata": {},
     "output_type": "execute_result"
    }
   ],
   "source": [
    "import imageio.v3 as iio\n",
    "\n",
    "im = iio.imread('test.png')\n",
    "im.shape"
   ],
   "metadata": {
    "collapsed": false,
    "ExecuteTime": {
     "end_time": "2024-01-23T03:18:18.434211Z",
     "start_time": "2024-01-23T03:18:08.851369Z"
    }
   },
   "id": "d55f442aa89fe101"
  },
  {
   "cell_type": "code",
   "execution_count": 3,
   "outputs": [],
   "source": [
    "iio.imwrite('test2.png', im)"
   ],
   "metadata": {
    "collapsed": false,
    "ExecuteTime": {
     "end_time": "2024-01-23T03:18:27.977583Z",
     "start_time": "2024-01-23T03:18:27.615341Z"
    }
   },
   "id": "7b3e1c8f7ee97b07"
  },
  {
   "cell_type": "code",
   "execution_count": null,
   "outputs": [],
   "source": [],
   "metadata": {
    "collapsed": false
   },
   "id": "1326b66f80d9f6da"
  }
 ],
 "metadata": {
  "kernelspec": {
   "display_name": "Python 3",
   "language": "python",
   "name": "python3"
  },
  "language_info": {
   "codemirror_mode": {
    "name": "ipython",
    "version": 2
   },
   "file_extension": ".py",
   "mimetype": "text/x-python",
   "name": "python",
   "nbconvert_exporter": "python",
   "pygments_lexer": "ipython2",
   "version": "2.7.6"
  }
 },
 "nbformat": 4,
 "nbformat_minor": 5
}
