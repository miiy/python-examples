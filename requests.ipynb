{
 "cells": [
  {
   "cell_type": "markdown",
   "source": [
    "## Requests\n",
    "\n",
    "<https://requests.readthedocs.io/en/latest/>"
   ],
   "metadata": {
    "collapsed": false
   },
   "id": "682d793071307b58"
  },
  {
   "cell_type": "code",
   "execution_count": 1,
   "outputs": [
    {
     "data": {
      "text/plain": "401"
     },
     "execution_count": 1,
     "metadata": {},
     "output_type": "execute_result"
    }
   ],
   "source": [
    "import requests\n",
    "\n",
    "r = requests.get('https://api.github.com/user', auth=('user', 'pass'))\n",
    "r.status_code"
   ],
   "metadata": {
    "collapsed": false,
    "ExecuteTime": {
     "end_time": "2023-12-26T08:09:26.580772Z",
     "start_time": "2023-12-26T08:09:25.794119Z"
    }
   },
   "id": "3b4dde73f8f2c4a4"
  },
  {
   "cell_type": "code",
   "execution_count": 2,
   "outputs": [
    {
     "data": {
      "text/plain": "'application/json; charset=utf-8'"
     },
     "execution_count": 2,
     "metadata": {},
     "output_type": "execute_result"
    }
   ],
   "source": [
    "r.headers['content-type']"
   ],
   "metadata": {
    "collapsed": false,
    "ExecuteTime": {
     "end_time": "2023-12-26T08:09:33.653294Z",
     "start_time": "2023-12-26T08:09:33.629348Z"
    }
   },
   "id": "c2273d97accbe3a7"
  },
  {
   "cell_type": "code",
   "execution_count": 3,
   "outputs": [
    {
     "data": {
      "text/plain": "'utf-8'"
     },
     "execution_count": 3,
     "metadata": {},
     "output_type": "execute_result"
    }
   ],
   "source": [
    "r.encoding"
   ],
   "metadata": {
    "collapsed": false,
    "ExecuteTime": {
     "end_time": "2023-12-26T08:09:39.162008Z",
     "start_time": "2023-12-26T08:09:39.129020Z"
    }
   },
   "id": "a70390913afc43c6"
  },
  {
   "cell_type": "code",
   "execution_count": 4,
   "outputs": [
    {
     "data": {
      "text/plain": "'{\"message\":\"Requires authentication\",\"documentation_url\":\"https://docs.github.com/rest/users/users#get-the-authenticated-user\"}'"
     },
     "execution_count": 4,
     "metadata": {},
     "output_type": "execute_result"
    }
   ],
   "source": [
    "r.text"
   ],
   "metadata": {
    "collapsed": false,
    "ExecuteTime": {
     "end_time": "2023-12-26T08:09:43.278458Z",
     "start_time": "2023-12-26T08:09:43.245161Z"
    }
   },
   "id": "faa56a2ce478bf6a"
  },
  {
   "cell_type": "code",
   "execution_count": 5,
   "outputs": [
    {
     "data": {
      "text/plain": "{'message': 'Requires authentication',\n 'documentation_url': 'https://docs.github.com/rest/users/users#get-the-authenticated-user'}"
     },
     "execution_count": 5,
     "metadata": {},
     "output_type": "execute_result"
    }
   ],
   "source": [
    "r.json()"
   ],
   "metadata": {
    "collapsed": false,
    "ExecuteTime": {
     "end_time": "2023-12-26T08:09:49.499329Z",
     "start_time": "2023-12-26T08:09:49.464105Z"
    }
   },
   "id": "b3811e81dac5e505"
  },
  {
   "cell_type": "code",
   "execution_count": null,
   "outputs": [],
   "source": [],
   "metadata": {
    "collapsed": false
   },
   "id": "8d5028edc217c8e1"
  }
 ],
 "metadata": {
  "kernelspec": {
   "display_name": "Python 3",
   "language": "python",
   "name": "python3"
  },
  "language_info": {
   "codemirror_mode": {
    "name": "ipython",
    "version": 2
   },
   "file_extension": ".py",
   "mimetype": "text/x-python",
   "name": "python",
   "nbconvert_exporter": "python",
   "pygments_lexer": "ipython2",
   "version": "2.7.6"
  }
 },
 "nbformat": 4,
 "nbformat_minor": 5
}
