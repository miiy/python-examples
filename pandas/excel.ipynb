{
 "cells": [
  {
   "cell_type": "code",
   "execution_count": null,
   "outputs": [],
   "source": [
    "%pip install pandas openpyxl"
   ],
   "metadata": {
    "collapsed": false
   },
   "id": "39546b7daef7d7ae"
  },
  {
   "cell_type": "code",
   "execution_count": null,
   "outputs": [],
   "source": [
    "import pandas as pd\n",
    "\n",
    "# 设置以便显示更多列\n",
    "pd.set_option('display.max_columns', None)\n",
    "# 设置以便显示更长的列内容\n",
    "pd.set_option('display.max_colwidth', None)\n",
    "# 设置以便显示更多行（可选）\n",
    "pd.set_option('display.max_rows', None)\n",
    "\n",
    "df = pd.read_excel('../data/fm.xlsx')\n",
    "# print(df)\n",
    "for index, row in df.iterrows():\n",
    "    print(f\"--------{index}\")\n",
    "    print(f\"{row}\")\n",
    "    if index > 15: break"
   ],
   "metadata": {
    "collapsed": false
   },
   "id": "initial_id"
  },
  {
   "cell_type": "code",
   "execution_count": null,
   "outputs": [],
   "source": [],
   "metadata": {
    "collapsed": false
   },
   "id": "d3b639ed13a4a0a8"
  }
 ],
 "metadata": {
  "kernelspec": {
   "display_name": "Python 3",
   "language": "python",
   "name": "python3"
  },
  "language_info": {
   "codemirror_mode": {
    "name": "ipython",
    "version": 2
   },
   "file_extension": ".py",
   "mimetype": "text/x-python",
   "name": "python",
   "nbconvert_exporter": "python",
   "pygments_lexer": "ipython2",
   "version": "2.7.6"
  }
 },
 "nbformat": 4,
 "nbformat_minor": 5
}
