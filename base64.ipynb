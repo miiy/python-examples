{
 "cells": [
  {
   "cell_type": "markdown",
   "source": [
    "## base64\n",
    "\n",
    "<https://docs.python.org/zh-cn/3/library/base64.html>"
   ],
   "metadata": {
    "collapsed": false
   },
   "id": "34b685b467dc3698"
  },
  {
   "cell_type": "code",
   "execution_count": 3,
   "outputs": [
    {
     "name": "stdout",
     "output_type": "stream",
     "text": [
      "b'ZGF0YSB3byBiZSBlbmNvZGVk'\n",
      "b'data wo be encoded'\n"
     ]
    }
   ],
   "source": [
    "import base64\n",
    "\n",
    "encoded = base64.b64encode(b'data wo be encoded')\n",
    "print(encoded)\n",
    "data = base64.b64decode(encoded)\n",
    "print(data)"
   ],
   "metadata": {
    "collapsed": false,
    "ExecuteTime": {
     "end_time": "2023-12-26T07:20:07.312570Z",
     "start_time": "2023-12-26T07:20:07.303241Z"
    }
   },
   "id": "8c28b972e74e9565"
  }
 ],
 "metadata": {
  "kernelspec": {
   "display_name": "Python 3",
   "language": "python",
   "name": "python3"
  },
  "language_info": {
   "codemirror_mode": {
    "name": "ipython",
    "version": 2
   },
   "file_extension": ".py",
   "mimetype": "text/x-python",
   "name": "python",
   "nbconvert_exporter": "python",
   "pygments_lexer": "ipython2",
   "version": "2.7.6"
  }
 },
 "nbformat": 4,
 "nbformat_minor": 5
}
