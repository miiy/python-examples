{
 "cells": [
  {
   "cell_type": "markdown",
   "source": [
    "# json --- JSON 编码和解码器\n",
    "\n",
    "<https://docs.python.org/zh-cn/3/library/json.html>"
   ],
   "metadata": {
    "collapsed": false
   },
   "id": "bc41e70e90f700f9"
  },
  {
   "cell_type": "code",
   "execution_count": 3,
   "id": "04dc6b4c-ebfc-418e-a376-d22e5c47b4af",
   "metadata": {
    "ExecuteTime": {
     "end_time": "2023-12-26T07:26:24.358798Z",
     "start_time": "2023-12-26T07:26:24.341404Z"
    }
   },
   "outputs": [
    {
     "name": "stdout",
     "output_type": "stream",
     "text": [
      "[\"foo\", {\"bar\": [\"baz\", null, 1.0, 2]}]\n",
      "{\"a\": 0, \"b\": 0, \"c\": 0}\n"
     ]
    }
   ],
   "source": [
    "import json\n",
    "\n",
    "print(json.dumps(['foo', {'bar': ('baz', None, 1.0, 2)}]))\n",
    "\n",
    "print(json.dumps({\"c\": 0, \"b\": 0, \"a\": 0}, sort_keys=True))"
   ]
  },
  {
   "cell_type": "markdown",
   "source": [
    "## 紧凑型编码"
   ],
   "metadata": {
    "collapsed": false
   },
   "id": "6719df9690cdb991"
  },
  {
   "cell_type": "code",
   "execution_count": 6,
   "outputs": [
    {
     "data": {
      "text/plain": "'[1,2,3,{\"4\":5,\"6\":7}]'"
     },
     "execution_count": 6,
     "metadata": {},
     "output_type": "execute_result"
    }
   ],
   "source": [
    "import json\n",
    "json.dumps([1,2,3,{'4': 5, '6': 7}], separators=(',', ':'))"
   ],
   "metadata": {
    "collapsed": false,
    "ExecuteTime": {
     "end_time": "2023-12-26T07:28:04.677760Z",
     "start_time": "2023-12-26T07:28:04.665953Z"
    }
   },
   "id": "5982097e9134b514"
  },
  {
   "cell_type": "markdown",
   "source": [
    "## 美化输出"
   ],
   "metadata": {
    "collapsed": false
   },
   "id": "2061f49d6309cf73"
  },
  {
   "cell_type": "code",
   "execution_count": 7,
   "outputs": [
    {
     "data": {
      "text/plain": "'{\\n    \"4\": 5,\\n    \"6\": 7\\n}'"
     },
     "execution_count": 7,
     "metadata": {},
     "output_type": "execute_result"
    }
   ],
   "source": [
    "import json\n",
    "json.dumps({'4': 5, '6': 7}, sort_keys=True, indent=4)"
   ],
   "metadata": {
    "collapsed": false,
    "ExecuteTime": {
     "end_time": "2023-12-26T07:28:49.941478Z",
     "start_time": "2023-12-26T07:28:49.922783Z"
    }
   },
   "id": "66eb79d13a3c3212"
  },
  {
   "cell_type": "markdown",
   "id": "0c6a17ee-2259-4427-9b7e-826e219157ba",
   "metadata": {},
   "source": [
    "## JSON解码"
   ]
  },
  {
   "cell_type": "code",
   "execution_count": 10,
   "id": "fa1ddc00-643e-4729-9a1f-b4e25e61aa01",
   "metadata": {
    "ExecuteTime": {
     "end_time": "2023-12-26T07:31:00.714653Z",
     "start_time": "2023-12-26T07:31:00.703951Z"
    }
   },
   "outputs": [
    {
     "data": {
      "text/plain": "['foo', {'bar': ['baz', None, 1.0, 2]}]"
     },
     "execution_count": 10,
     "metadata": {},
     "output_type": "execute_result"
    }
   ],
   "source": [
    "import json\n",
    "\n",
    "json.loads('[\"foo\", {\"bar\":[\"baz\", null, 1.0, 2]}]')"
   ]
  }
 ],
 "metadata": {
  "kernelspec": {
   "display_name": "Python 3 (ipykernel)",
   "language": "python",
   "name": "python3"
  },
  "language_info": {
   "codemirror_mode": {
    "name": "ipython",
    "version": 3
   },
   "file_extension": ".py",
   "mimetype": "text/x-python",
   "name": "python",
   "nbconvert_exporter": "python",
   "pygments_lexer": "ipython3",
   "version": "3.8.4"
  }
 },
 "nbformat": 4,
 "nbformat_minor": 5
}
