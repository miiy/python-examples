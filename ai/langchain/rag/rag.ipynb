{
 "cells": [
  {
   "cell_type": "markdown",
   "source": [
    "## RAG\n",
    "\n",
    "RAG 检索增强生成 是一种利用附加数据扩充LLM知识的技术。\n",
    "\n",
    "## RAG Architecture 结构\n",
    "\n",
    "- Indexing 索引\n",
    "  - Load：首先我们需要加载我们的数据。\n",
    "  - Split：拆分：文本拆分器将大的 Documents 拆分成更小的块。这对于索引数据和将数据传递给模型都很有用，因为大块更难搜索，也不适合模型的有限上下文窗口。\n",
    "  - Store：存储和索引我们的 splits，通常使用 VectorStore 和 Embeddings 模型来完成。\n",
    "\n",
    "- Retrieval and generation 检索和生成\n",
    "  - Retrieve 检索：：给定用户输入，使用Retriever从存储中检索相关splits。\n",
    "  - Generate 生成：ChatModel/LLM使用包含问题和检索到的数据的提示词生成答案"
   ],
   "metadata": {
    "collapsed": false
   },
   "id": "198d842c8df0edfb"
  },
  {
   "cell_type": "code",
   "execution_count": null,
   "outputs": [],
   "source": [],
   "metadata": {
    "collapsed": false
   },
   "id": "b50778a726416089"
  }
 ],
 "metadata": {
  "kernelspec": {
   "display_name": "Python 3",
   "language": "python",
   "name": "python3"
  },
  "language_info": {
   "codemirror_mode": {
    "name": "ipython",
    "version": 2
   },
   "file_extension": ".py",
   "mimetype": "text/x-python",
   "name": "python",
   "nbconvert_exporter": "python",
   "pygments_lexer": "ipython2",
   "version": "2.7.6"
  }
 },
 "nbformat": 4,
 "nbformat_minor": 5
}
