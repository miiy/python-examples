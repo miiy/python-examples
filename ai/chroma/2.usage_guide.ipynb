{
 "cells": [
  {
   "cell_type": "markdown",
   "source": [
    "# Initiating a persistent Chroma client"
   ],
   "metadata": {
    "collapsed": false
   },
   "id": "76f81faf98a12e64"
  },
  {
   "cell_type": "code",
   "execution_count": 3,
   "outputs": [],
   "source": [
    "import chromadb\n",
    "\n",
    "# 将 Chroma 配置为从本地机器保存和加载。数据将自动持久化，并在启动时加载（如果存在）。\n",
    "client = chromadb.PersistentClient(path=\".\")"
   ],
   "metadata": {
    "collapsed": false,
    "ExecuteTime": {
     "end_time": "2024-01-08T05:48:03.216238Z",
     "start_time": "2024-01-08T05:48:03.205958Z"
    }
   },
   "id": "590d545b411b2983"
  },
  {
   "cell_type": "markdown",
   "source": [
    "## Running Chroma in client/server mode"
   ],
   "metadata": {
    "collapsed": false
   },
   "id": "5a3455105b6ab4b7"
  },
  {
   "cell_type": "code",
   "execution_count": 2,
   "outputs": [
    {
     "name": "stdout",
     "output_type": "stream",
     "text": [
      "\u001B[1m\r\n",
      "\r\n",
      "                \u001B[38;5;069m(((((((((    \u001B[38;5;203m(((((\u001B[38;5;220m####\r\n",
      "             \u001B[38;5;069m(((((((((((((\u001B[38;5;203m(((((((((\u001B[38;5;220m#########\r\n",
      "           \u001B[38;5;069m(((((((((((((\u001B[38;5;203m(((((((((((\u001B[38;5;220m###########\r\n",
      "         \u001B[38;5;069m((((((((((((((\u001B[38;5;203m((((((((((((\u001B[38;5;220m############\r\n",
      "        \u001B[38;5;069m(((((((((((((\u001B[38;5;203m((((((((((((((\u001B[38;5;220m#############\r\n",
      "        \u001B[38;5;069m(((((((((((((\u001B[38;5;203m((((((((((((((\u001B[38;5;220m#############\r\n",
      "         \u001B[38;5;069m((((((((((((\u001B[38;5;203m(((((((((((((\u001B[38;5;220m##############\r\n",
      "         \u001B[38;5;069m((((((((((((\u001B[38;5;203m((((((((((((\u001B[38;5;220m##############\r\n",
      "           \u001B[38;5;069m((((((((((\u001B[38;5;203m(((((((((((\u001B[38;5;220m#############\r\n",
      "             \u001B[38;5;069m((((((((\u001B[38;5;203m((((((((\u001B[38;5;220m##############\r\n",
      "                \u001B[38;5;069m(((((\u001B[38;5;203m((((    \u001B[38;5;220m#########\u001B[0m\r\n",
      "\r\n",
      "    \r\n",
      "\u001B[1m\r\n",
      "Running Chroma\r\n",
      "\u001B[0m\r\n",
      "\u001B[1mSaving data to\u001B[0m: \u001B[32m./\u001B[0m\r\n",
      "\u001B[1mConnect to chroma at\u001B[0m: \u001B[32mhttp://localhost:8000\u001B[0m\r\n",
      "\u001B[1mGetting started guide\u001B[0m: https://docs.trychroma.com/getting-started\r\n",
      "\r\n",
      "\r\n",
      "\u001B[32mINFO\u001B[0m:     [08-01-2024 13:40:06] Set chroma_server_nofile to 65535\r\n",
      "\u001B[32mINFO\u001B[0m:     [08-01-2024 13:40:06] Anonymized telemetry enabled. See                     https://docs.trychroma.com/telemetry for more information.\r\n",
      "\u001B[36mDEBUG\u001B[0m:    [08-01-2024 13:40:06] Starting component System\r\n",
      "\u001B[36mDEBUG\u001B[0m:    [08-01-2024 13:40:06] Starting component OpenTelemetryClient\r\n",
      "\u001B[36mDEBUG\u001B[0m:    [08-01-2024 13:40:06] Starting component SimpleAssignmentPolicy\r\n",
      "\u001B[36mDEBUG\u001B[0m:    [08-01-2024 13:40:06] Starting component SqliteDB\r\n",
      "\u001B[36mDEBUG\u001B[0m:    [08-01-2024 13:40:06] Starting component Posthog\r\n",
      "\u001B[36mDEBUG\u001B[0m:    [08-01-2024 13:40:06] Starting component LocalSegmentManager\r\n",
      "\u001B[36mDEBUG\u001B[0m:    [08-01-2024 13:40:06] Starting component SegmentAPI\r\n",
      "\u001B[32mINFO\u001B[0m:     [08-01-2024 13:40:06] Started server process [\u001B[36m55737\u001B[0m]\r\n",
      "\u001B[32mINFO\u001B[0m:     [08-01-2024 13:40:06] Waiting for application startup.\r\n",
      "\u001B[32mINFO\u001B[0m:     [08-01-2024 13:40:06] Application startup complete.\r\n",
      "\u001B[32mINFO\u001B[0m:     [08-01-2024 13:40:06] Uvicorn running on \u001B[1mhttp://localhost:8000\u001B[0m (Press CTRL+C to quit)\r\n",
      "^C\r\n",
      "\u001B[32mINFO\u001B[0m:     [08-01-2024 13:40:30] Shutting down\r\n",
      "\u001B[32mINFO\u001B[0m:     [08-01-2024 13:40:30] Waiting for application shutdown.\r\n",
      "\u001B[32mINFO\u001B[0m:     [08-01-2024 13:40:30] Application shutdown complete.\r\n",
      "\u001B[32mINFO\u001B[0m:     [08-01-2024 13:40:30] Finished server process [\u001B[36m55737\u001B[0m]\r\n"
     ]
    }
   ],
   "source": [
    "!chroma run --path ./"
   ],
   "metadata": {
    "collapsed": false,
    "ExecuteTime": {
     "end_time": "2024-01-08T05:40:31.193708Z",
     "start_time": "2024-01-08T05:40:03.255932Z"
    }
   },
   "id": "d835cc4ef8ee9d89"
  },
  {
   "cell_type": "code",
   "execution_count": null,
   "outputs": [],
   "source": [
    "import chromadb\n",
    "\n",
    "chroma_client = chromadb.HttpClient(host='localhost', port=8000)"
   ],
   "metadata": {
    "collapsed": false
   },
   "id": "cf943040b38ffd9"
  },
  {
   "cell_type": "markdown",
   "source": [
    "## Using the python http-only client\n",
    "\n",
    "如果您在 client-server 模式下运行 chroma，则可能不需要完整的 chroma 库。可以安装 chromadb-client 包。\n",
    "\n",
    "```bash\n",
    "!pip install chromadb-client\n",
    "```\n",
    "\n",
    "```python\n",
    "import chromadb\n",
    "# Example setup of the client to connect to your chroma server\n",
    "client = chromadb.HttpClient(host='localhost', port=8000)\n",
    "```"
   ],
   "metadata": {
    "collapsed": false
   },
   "id": "122110becd3bf98f"
  },
  {
   "cell_type": "markdown",
   "source": [
    "## Using collections\n",
    "\n",
    "Chroma 允许您使用 collection 来管理嵌入的集合\n",
    "\n",
    "Chroma集合是用一个名称和一个可选的嵌入功能创建的。如果提供嵌入函数，则每次获取集合时都必须提供它。\n",
    "\n",
    "```python\n",
    "collection = client.create_collection(name=\"my_collection\", embedding_function=emb_fn)\n",
    "collection = client.get_collection(name=\"my_collection\", embedding_function=emb_fn)\n",
    "```"
   ],
   "metadata": {
    "collapsed": false
   },
   "id": "4cf49df8ab86dabe"
  },
  {
   "cell_type": "code",
   "execution_count": null,
   "outputs": [],
   "source": [
    "## Creating, inspecting, and deleting Collections 创建、检查和删除集合"
   ],
   "metadata": {
    "collapsed": false
   },
   "id": "bfddf15c46180a51"
  },
  {
   "cell_type": "code",
   "execution_count": 11,
   "outputs": [
    {
     "ename": "ValueError",
     "evalue": "Collection test does not exist.",
     "output_type": "error",
     "traceback": [
      "\u001B[0;31m---------------------------------------------------------------------------\u001B[0m",
      "\u001B[0;31mValueError\u001B[0m                                Traceback (most recent call last)",
      "Cell \u001B[0;32mIn[11], line 1\u001B[0m\n\u001B[0;32m----> 1\u001B[0m collection \u001B[38;5;241m=\u001B[39m \u001B[43mclient\u001B[49m\u001B[38;5;241;43m.\u001B[39;49m\u001B[43mget_collection\u001B[49m\u001B[43m(\u001B[49m\u001B[43mname\u001B[49m\u001B[38;5;241;43m=\u001B[39;49m\u001B[38;5;124;43m\"\u001B[39;49m\u001B[38;5;124;43mtest\u001B[39;49m\u001B[38;5;124;43m\"\u001B[39;49m\u001B[43m)\u001B[49m\n\u001B[1;32m      2\u001B[0m \u001B[38;5;28mprint\u001B[39m(collection)\n\u001B[1;32m      3\u001B[0m collection \u001B[38;5;241m=\u001B[39m client\u001B[38;5;241m.\u001B[39mget_or_create_collection(name\u001B[38;5;241m=\u001B[39m\u001B[38;5;124m\"\u001B[39m\u001B[38;5;124mtest\u001B[39m\u001B[38;5;124m\"\u001B[39m)\n",
      "File \u001B[0;32m~/Codes/github/python-examples/venv/lib/python3.10/site-packages/chromadb/api/client.py:218\u001B[0m, in \u001B[0;36mClient.get_collection\u001B[0;34m(self, name, id, embedding_function, data_loader)\u001B[0m\n\u001B[1;32m    208\u001B[0m \u001B[38;5;129m@override\u001B[39m\n\u001B[1;32m    209\u001B[0m \u001B[38;5;28;01mdef\u001B[39;00m \u001B[38;5;21mget_collection\u001B[39m(\n\u001B[1;32m    210\u001B[0m     \u001B[38;5;28mself\u001B[39m,\n\u001B[0;32m   (...)\u001B[0m\n\u001B[1;32m    216\u001B[0m     data_loader: Optional[DataLoader[Loadable]] \u001B[38;5;241m=\u001B[39m \u001B[38;5;28;01mNone\u001B[39;00m,\n\u001B[1;32m    217\u001B[0m ) \u001B[38;5;241m-\u001B[39m\u001B[38;5;241m>\u001B[39m Collection:\n\u001B[0;32m--> 218\u001B[0m     \u001B[38;5;28;01mreturn\u001B[39;00m \u001B[38;5;28;43mself\u001B[39;49m\u001B[38;5;241;43m.\u001B[39;49m\u001B[43m_server\u001B[49m\u001B[38;5;241;43m.\u001B[39;49m\u001B[43mget_collection\u001B[49m\u001B[43m(\u001B[49m\n\u001B[1;32m    219\u001B[0m \u001B[43m        \u001B[49m\u001B[38;5;28;43mid\u001B[39;49m\u001B[38;5;241;43m=\u001B[39;49m\u001B[38;5;28;43mid\u001B[39;49m\u001B[43m,\u001B[49m\n\u001B[1;32m    220\u001B[0m \u001B[43m        \u001B[49m\u001B[43mname\u001B[49m\u001B[38;5;241;43m=\u001B[39;49m\u001B[43mname\u001B[49m\u001B[43m,\u001B[49m\n\u001B[1;32m    221\u001B[0m \u001B[43m        \u001B[49m\u001B[43membedding_function\u001B[49m\u001B[38;5;241;43m=\u001B[39;49m\u001B[43membedding_function\u001B[49m\u001B[43m,\u001B[49m\n\u001B[1;32m    222\u001B[0m \u001B[43m        \u001B[49m\u001B[43mdata_loader\u001B[49m\u001B[38;5;241;43m=\u001B[39;49m\u001B[43mdata_loader\u001B[49m\u001B[43m,\u001B[49m\n\u001B[1;32m    223\u001B[0m \u001B[43m        \u001B[49m\u001B[43mtenant\u001B[49m\u001B[38;5;241;43m=\u001B[39;49m\u001B[38;5;28;43mself\u001B[39;49m\u001B[38;5;241;43m.\u001B[39;49m\u001B[43mtenant\u001B[49m\u001B[43m,\u001B[49m\n\u001B[1;32m    224\u001B[0m \u001B[43m        \u001B[49m\u001B[43mdatabase\u001B[49m\u001B[38;5;241;43m=\u001B[39;49m\u001B[38;5;28;43mself\u001B[39;49m\u001B[38;5;241;43m.\u001B[39;49m\u001B[43mdatabase\u001B[49m\u001B[43m,\u001B[49m\n\u001B[1;32m    225\u001B[0m \u001B[43m    \u001B[49m\u001B[43m)\u001B[49m\n",
      "File \u001B[0;32m~/Codes/github/python-examples/venv/lib/python3.10/site-packages/chromadb/telemetry/opentelemetry/__init__.py:127\u001B[0m, in \u001B[0;36mtrace_method.<locals>.decorator.<locals>.wrapper\u001B[0;34m(*args, **kwargs)\u001B[0m\n\u001B[1;32m    125\u001B[0m \u001B[38;5;28;01mglobal\u001B[39;00m tracer, granularity\n\u001B[1;32m    126\u001B[0m \u001B[38;5;28;01mif\u001B[39;00m trace_granularity \u001B[38;5;241m<\u001B[39m granularity:\n\u001B[0;32m--> 127\u001B[0m     \u001B[38;5;28;01mreturn\u001B[39;00m \u001B[43mf\u001B[49m\u001B[43m(\u001B[49m\u001B[38;5;241;43m*\u001B[39;49m\u001B[43margs\u001B[49m\u001B[43m,\u001B[49m\u001B[43m \u001B[49m\u001B[38;5;241;43m*\u001B[39;49m\u001B[38;5;241;43m*\u001B[39;49m\u001B[43mkwargs\u001B[49m\u001B[43m)\u001B[49m\n\u001B[1;32m    128\u001B[0m \u001B[38;5;28;01mif\u001B[39;00m \u001B[38;5;129;01mnot\u001B[39;00m tracer:\n\u001B[1;32m    129\u001B[0m     \u001B[38;5;28;01mreturn\u001B[39;00m f(\u001B[38;5;241m*\u001B[39margs, \u001B[38;5;241m*\u001B[39m\u001B[38;5;241m*\u001B[39mkwargs)\n",
      "File \u001B[0;32m~/Codes/github/python-examples/venv/lib/python3.10/site-packages/chromadb/api/segment.py:260\u001B[0m, in \u001B[0;36mSegmentAPI.get_collection\u001B[0;34m(self, name, id, embedding_function, data_loader, tenant, database)\u001B[0m\n\u001B[1;32m    249\u001B[0m     \u001B[38;5;28;01mreturn\u001B[39;00m Collection(\n\u001B[1;32m    250\u001B[0m         client\u001B[38;5;241m=\u001B[39m\u001B[38;5;28mself\u001B[39m,\n\u001B[1;32m    251\u001B[0m         \u001B[38;5;28mid\u001B[39m\u001B[38;5;241m=\u001B[39mexisting[\u001B[38;5;241m0\u001B[39m][\u001B[38;5;124m\"\u001B[39m\u001B[38;5;124mid\u001B[39m\u001B[38;5;124m\"\u001B[39m],\n\u001B[0;32m   (...)\u001B[0m\n\u001B[1;32m    257\u001B[0m         database\u001B[38;5;241m=\u001B[39mexisting[\u001B[38;5;241m0\u001B[39m][\u001B[38;5;124m\"\u001B[39m\u001B[38;5;124mdatabase\u001B[39m\u001B[38;5;124m\"\u001B[39m],\n\u001B[1;32m    258\u001B[0m     )\n\u001B[1;32m    259\u001B[0m \u001B[38;5;28;01melse\u001B[39;00m:\n\u001B[0;32m--> 260\u001B[0m     \u001B[38;5;28;01mraise\u001B[39;00m \u001B[38;5;167;01mValueError\u001B[39;00m(\u001B[38;5;124mf\u001B[39m\u001B[38;5;124m\"\u001B[39m\u001B[38;5;124mCollection \u001B[39m\u001B[38;5;132;01m{\u001B[39;00mname\u001B[38;5;132;01m}\u001B[39;00m\u001B[38;5;124m does not exist.\u001B[39m\u001B[38;5;124m\"\u001B[39m)\n",
      "\u001B[0;31mValueError\u001B[0m: Collection test does not exist."
     ]
    }
   ],
   "source": [
    "# collection = client.get_collection(name=\"test\")\n",
    "collection = client.get_or_create_collection(name=\"test\")\n",
    "print(collection)\n",
    "client.delete_collection(name=\"test\")"
   ],
   "metadata": {
    "collapsed": false,
    "ExecuteTime": {
     "end_time": "2024-01-08T05:49:40.358799Z",
     "start_time": "2024-01-08T05:49:40.280028Z"
    }
   },
   "id": "f647f64d6d811e47"
  },
  {
   "cell_type": "markdown",
   "source": [
    "## Changing the distance function 更改距离函数\n",
    "\n",
    "通过 metadata.hnsw:space的值来自定义嵌入空间的距离方法"
   ],
   "metadata": {
    "collapsed": false
   },
   "id": "a72e5d0b8b809d19"
  },
  {
   "cell_type": "code",
   "execution_count": 17,
   "outputs": [
    {
     "ename": "UniqueConstraintError",
     "evalue": "Collection collection_name already exists",
     "output_type": "error",
     "traceback": [
      "\u001B[0;31m---------------------------------------------------------------------------\u001B[0m",
      "\u001B[0;31mUniqueConstraintError\u001B[0m                     Traceback (most recent call last)",
      "Cell \u001B[0;32mIn[17], line 1\u001B[0m\n\u001B[0;32m----> 1\u001B[0m collection \u001B[38;5;241m=\u001B[39m \u001B[43mclient\u001B[49m\u001B[38;5;241;43m.\u001B[39;49m\u001B[43mcreate_collection\u001B[49m\u001B[43m(\u001B[49m\n\u001B[1;32m      2\u001B[0m \u001B[43m    \u001B[49m\u001B[43mname\u001B[49m\u001B[38;5;241;43m=\u001B[39;49m\u001B[38;5;124;43m\"\u001B[39;49m\u001B[38;5;124;43mcollection_name\u001B[39;49m\u001B[38;5;124;43m\"\u001B[39;49m\u001B[43m,\u001B[49m\n\u001B[1;32m      3\u001B[0m \u001B[43m    \u001B[49m\u001B[43mmetadata\u001B[49m\u001B[38;5;241;43m=\u001B[39;49m\u001B[43m{\u001B[49m\u001B[38;5;124;43m\"\u001B[39;49m\u001B[38;5;124;43mhnsw:space\u001B[39;49m\u001B[38;5;124;43m\"\u001B[39;49m\u001B[43m:\u001B[49m\u001B[43m \u001B[49m\u001B[38;5;124;43m\"\u001B[39;49m\u001B[38;5;124;43mcosine\u001B[39;49m\u001B[38;5;124;43m\"\u001B[39;49m\u001B[43m}\u001B[49m\u001B[43m \u001B[49m\u001B[38;5;66;43;03m# l2 is the default\u001B[39;49;00m\n\u001B[1;32m      4\u001B[0m \u001B[43m)\u001B[49m\n",
      "File \u001B[0;32m~/Codes/github/python-examples/venv/lib/python3.10/site-packages/chromadb/api/client.py:198\u001B[0m, in \u001B[0;36mClient.create_collection\u001B[0;34m(self, name, metadata, embedding_function, data_loader, get_or_create)\u001B[0m\n\u001B[1;32m    187\u001B[0m \u001B[38;5;129m@override\u001B[39m\n\u001B[1;32m    188\u001B[0m \u001B[38;5;28;01mdef\u001B[39;00m \u001B[38;5;21mcreate_collection\u001B[39m(\n\u001B[1;32m    189\u001B[0m     \u001B[38;5;28mself\u001B[39m,\n\u001B[0;32m   (...)\u001B[0m\n\u001B[1;32m    196\u001B[0m     get_or_create: \u001B[38;5;28mbool\u001B[39m \u001B[38;5;241m=\u001B[39m \u001B[38;5;28;01mFalse\u001B[39;00m,\n\u001B[1;32m    197\u001B[0m ) \u001B[38;5;241m-\u001B[39m\u001B[38;5;241m>\u001B[39m Collection:\n\u001B[0;32m--> 198\u001B[0m     \u001B[38;5;28;01mreturn\u001B[39;00m \u001B[38;5;28;43mself\u001B[39;49m\u001B[38;5;241;43m.\u001B[39;49m\u001B[43m_server\u001B[49m\u001B[38;5;241;43m.\u001B[39;49m\u001B[43mcreate_collection\u001B[49m\u001B[43m(\u001B[49m\n\u001B[1;32m    199\u001B[0m \u001B[43m        \u001B[49m\u001B[43mname\u001B[49m\u001B[38;5;241;43m=\u001B[39;49m\u001B[43mname\u001B[49m\u001B[43m,\u001B[49m\n\u001B[1;32m    200\u001B[0m \u001B[43m        \u001B[49m\u001B[43mmetadata\u001B[49m\u001B[38;5;241;43m=\u001B[39;49m\u001B[43mmetadata\u001B[49m\u001B[43m,\u001B[49m\n\u001B[1;32m    201\u001B[0m \u001B[43m        \u001B[49m\u001B[43membedding_function\u001B[49m\u001B[38;5;241;43m=\u001B[39;49m\u001B[43membedding_function\u001B[49m\u001B[43m,\u001B[49m\n\u001B[1;32m    202\u001B[0m \u001B[43m        \u001B[49m\u001B[43mdata_loader\u001B[49m\u001B[38;5;241;43m=\u001B[39;49m\u001B[43mdata_loader\u001B[49m\u001B[43m,\u001B[49m\n\u001B[1;32m    203\u001B[0m \u001B[43m        \u001B[49m\u001B[43mtenant\u001B[49m\u001B[38;5;241;43m=\u001B[39;49m\u001B[38;5;28;43mself\u001B[39;49m\u001B[38;5;241;43m.\u001B[39;49m\u001B[43mtenant\u001B[49m\u001B[43m,\u001B[49m\n\u001B[1;32m    204\u001B[0m \u001B[43m        \u001B[49m\u001B[43mdatabase\u001B[49m\u001B[38;5;241;43m=\u001B[39;49m\u001B[38;5;28;43mself\u001B[39;49m\u001B[38;5;241;43m.\u001B[39;49m\u001B[43mdatabase\u001B[49m\u001B[43m,\u001B[49m\n\u001B[1;32m    205\u001B[0m \u001B[43m        \u001B[49m\u001B[43mget_or_create\u001B[49m\u001B[38;5;241;43m=\u001B[39;49m\u001B[43mget_or_create\u001B[49m\u001B[43m,\u001B[49m\n\u001B[1;32m    206\u001B[0m \u001B[43m    \u001B[49m\u001B[43m)\u001B[49m\n",
      "File \u001B[0;32m~/Codes/github/python-examples/venv/lib/python3.10/site-packages/chromadb/telemetry/opentelemetry/__init__.py:127\u001B[0m, in \u001B[0;36mtrace_method.<locals>.decorator.<locals>.wrapper\u001B[0;34m(*args, **kwargs)\u001B[0m\n\u001B[1;32m    125\u001B[0m \u001B[38;5;28;01mglobal\u001B[39;00m tracer, granularity\n\u001B[1;32m    126\u001B[0m \u001B[38;5;28;01mif\u001B[39;00m trace_granularity \u001B[38;5;241m<\u001B[39m granularity:\n\u001B[0;32m--> 127\u001B[0m     \u001B[38;5;28;01mreturn\u001B[39;00m \u001B[43mf\u001B[49m\u001B[43m(\u001B[49m\u001B[38;5;241;43m*\u001B[39;49m\u001B[43margs\u001B[49m\u001B[43m,\u001B[49m\u001B[43m \u001B[49m\u001B[38;5;241;43m*\u001B[39;49m\u001B[38;5;241;43m*\u001B[39;49m\u001B[43mkwargs\u001B[49m\u001B[43m)\u001B[49m\n\u001B[1;32m    128\u001B[0m \u001B[38;5;28;01mif\u001B[39;00m \u001B[38;5;129;01mnot\u001B[39;00m tracer:\n\u001B[1;32m    129\u001B[0m     \u001B[38;5;28;01mreturn\u001B[39;00m f(\u001B[38;5;241m*\u001B[39margs, \u001B[38;5;241m*\u001B[39m\u001B[38;5;241m*\u001B[39mkwargs)\n",
      "File \u001B[0;32m~/Codes/github/python-examples/venv/lib/python3.10/site-packages/chromadb/api/segment.py:166\u001B[0m, in \u001B[0;36mSegmentAPI.create_collection\u001B[0;34m(self, name, metadata, embedding_function, data_loader, get_or_create, tenant, database)\u001B[0m\n\u001B[1;32m    162\u001B[0m check_index_name(name)\n\u001B[1;32m    164\u001B[0m \u001B[38;5;28mid\u001B[39m \u001B[38;5;241m=\u001B[39m uuid4()\n\u001B[0;32m--> 166\u001B[0m coll, created \u001B[38;5;241m=\u001B[39m \u001B[38;5;28;43mself\u001B[39;49m\u001B[38;5;241;43m.\u001B[39;49m\u001B[43m_sysdb\u001B[49m\u001B[38;5;241;43m.\u001B[39;49m\u001B[43mcreate_collection\u001B[49m\u001B[43m(\u001B[49m\n\u001B[1;32m    167\u001B[0m \u001B[43m    \u001B[49m\u001B[38;5;28;43mid\u001B[39;49m\u001B[38;5;241;43m=\u001B[39;49m\u001B[38;5;28;43mid\u001B[39;49m\u001B[43m,\u001B[49m\n\u001B[1;32m    168\u001B[0m \u001B[43m    \u001B[49m\u001B[43mname\u001B[49m\u001B[38;5;241;43m=\u001B[39;49m\u001B[43mname\u001B[49m\u001B[43m,\u001B[49m\n\u001B[1;32m    169\u001B[0m \u001B[43m    \u001B[49m\u001B[43mmetadata\u001B[49m\u001B[38;5;241;43m=\u001B[39;49m\u001B[43mmetadata\u001B[49m\u001B[43m,\u001B[49m\n\u001B[1;32m    170\u001B[0m \u001B[43m    \u001B[49m\u001B[43mdimension\u001B[49m\u001B[38;5;241;43m=\u001B[39;49m\u001B[38;5;28;43;01mNone\u001B[39;49;00m\u001B[43m,\u001B[49m\n\u001B[1;32m    171\u001B[0m \u001B[43m    \u001B[49m\u001B[43mget_or_create\u001B[49m\u001B[38;5;241;43m=\u001B[39;49m\u001B[43mget_or_create\u001B[49m\u001B[43m,\u001B[49m\n\u001B[1;32m    172\u001B[0m \u001B[43m    \u001B[49m\u001B[43mtenant\u001B[49m\u001B[38;5;241;43m=\u001B[39;49m\u001B[43mtenant\u001B[49m\u001B[43m,\u001B[49m\n\u001B[1;32m    173\u001B[0m \u001B[43m    \u001B[49m\u001B[43mdatabase\u001B[49m\u001B[38;5;241;43m=\u001B[39;49m\u001B[43mdatabase\u001B[49m\u001B[43m,\u001B[49m\n\u001B[1;32m    174\u001B[0m \u001B[43m\u001B[49m\u001B[43m)\u001B[49m\n\u001B[1;32m    176\u001B[0m \u001B[38;5;28;01mif\u001B[39;00m created:\n\u001B[1;32m    177\u001B[0m     segments \u001B[38;5;241m=\u001B[39m \u001B[38;5;28mself\u001B[39m\u001B[38;5;241m.\u001B[39m_manager\u001B[38;5;241m.\u001B[39mcreate_segments(coll)\n",
      "File \u001B[0;32m~/Codes/github/python-examples/venv/lib/python3.10/site-packages/chromadb/telemetry/opentelemetry/__init__.py:127\u001B[0m, in \u001B[0;36mtrace_method.<locals>.decorator.<locals>.wrapper\u001B[0;34m(*args, **kwargs)\u001B[0m\n\u001B[1;32m    125\u001B[0m \u001B[38;5;28;01mglobal\u001B[39;00m tracer, granularity\n\u001B[1;32m    126\u001B[0m \u001B[38;5;28;01mif\u001B[39;00m trace_granularity \u001B[38;5;241m<\u001B[39m granularity:\n\u001B[0;32m--> 127\u001B[0m     \u001B[38;5;28;01mreturn\u001B[39;00m \u001B[43mf\u001B[49m\u001B[43m(\u001B[49m\u001B[38;5;241;43m*\u001B[39;49m\u001B[43margs\u001B[49m\u001B[43m,\u001B[49m\u001B[43m \u001B[49m\u001B[38;5;241;43m*\u001B[39;49m\u001B[38;5;241;43m*\u001B[39;49m\u001B[43mkwargs\u001B[49m\u001B[43m)\u001B[49m\n\u001B[1;32m    128\u001B[0m \u001B[38;5;28;01mif\u001B[39;00m \u001B[38;5;129;01mnot\u001B[39;00m tracer:\n\u001B[1;32m    129\u001B[0m     \u001B[38;5;28;01mreturn\u001B[39;00m f(\u001B[38;5;241m*\u001B[39margs, \u001B[38;5;241m*\u001B[39m\u001B[38;5;241m*\u001B[39mkwargs)\n",
      "File \u001B[0;32m~/Codes/github/python-examples/venv/lib/python3.10/site-packages/chromadb/db/mixins/sysdb.py:225\u001B[0m, in \u001B[0;36mSqlSysDB.create_collection\u001B[0;34m(self, id, name, metadata, dimension, get_or_create, tenant, database)\u001B[0m\n\u001B[1;32m    218\u001B[0m         \u001B[38;5;28;01mreturn\u001B[39;00m (\n\u001B[1;32m    219\u001B[0m             \u001B[38;5;28mself\u001B[39m\u001B[38;5;241m.\u001B[39mget_collections(\n\u001B[1;32m    220\u001B[0m                 \u001B[38;5;28mid\u001B[39m\u001B[38;5;241m=\u001B[39mcollection[\u001B[38;5;124m\"\u001B[39m\u001B[38;5;124mid\u001B[39m\u001B[38;5;124m\"\u001B[39m], tenant\u001B[38;5;241m=\u001B[39mtenant, database\u001B[38;5;241m=\u001B[39mdatabase\n\u001B[1;32m    221\u001B[0m             )[\u001B[38;5;241m0\u001B[39m],\n\u001B[1;32m    222\u001B[0m             \u001B[38;5;28;01mFalse\u001B[39;00m,\n\u001B[1;32m    223\u001B[0m         )\n\u001B[1;32m    224\u001B[0m     \u001B[38;5;28;01melse\u001B[39;00m:\n\u001B[0;32m--> 225\u001B[0m         \u001B[38;5;28;01mraise\u001B[39;00m UniqueConstraintError(\u001B[38;5;124mf\u001B[39m\u001B[38;5;124m\"\u001B[39m\u001B[38;5;124mCollection \u001B[39m\u001B[38;5;132;01m{\u001B[39;00mname\u001B[38;5;132;01m}\u001B[39;00m\u001B[38;5;124m already exists\u001B[39m\u001B[38;5;124m\"\u001B[39m)\n\u001B[1;32m    227\u001B[0m topic \u001B[38;5;241m=\u001B[39m \u001B[38;5;28mself\u001B[39m\u001B[38;5;241m.\u001B[39m_assignment_policy\u001B[38;5;241m.\u001B[39massign_collection(\u001B[38;5;28mid\u001B[39m)\n\u001B[1;32m    228\u001B[0m collection \u001B[38;5;241m=\u001B[39m Collection(\n\u001B[1;32m    229\u001B[0m     \u001B[38;5;28mid\u001B[39m\u001B[38;5;241m=\u001B[39m\u001B[38;5;28mid\u001B[39m,\n\u001B[1;32m    230\u001B[0m     topic\u001B[38;5;241m=\u001B[39mtopic,\n\u001B[0;32m   (...)\u001B[0m\n\u001B[1;32m    235\u001B[0m     database\u001B[38;5;241m=\u001B[39mdatabase,\n\u001B[1;32m    236\u001B[0m )\n",
      "\u001B[0;31mUniqueConstraintError\u001B[0m: Collection collection_name already exists"
     ]
    }
   ],
   "source": [
    "collection = client.create_collection(\n",
    "    name=\"collection_name\",\n",
    "    metadata={\"hnsw:space\": \"cosine\"} # l2 is the default\n",
    ")"
   ],
   "metadata": {
    "collapsed": false,
    "ExecuteTime": {
     "end_time": "2024-01-08T06:11:16.731883Z",
     "start_time": "2024-01-08T06:11:16.431026Z"
    }
   },
   "id": "5a525f2b979e3a03"
  },
  {
   "cell_type": "markdown",
   "source": [
    "## Adding data to Collection 添加数据到集合\n",
    "\n",
    "使用 .Add 添加数据"
   ],
   "metadata": {
    "collapsed": false
   },
   "id": "a27fd1136859a29"
  },
  {
   "cell_type": "code",
   "execution_count": 19,
   "outputs": [
    {
     "ename": "ValueError",
     "evalue": "Expected ID to be a str, got Ellipsis",
     "output_type": "error",
     "traceback": [
      "\u001B[0;31m---------------------------------------------------------------------------\u001B[0m",
      "\u001B[0;31mValueError\u001B[0m                                Traceback (most recent call last)",
      "Cell \u001B[0;32mIn[19], line 1\u001B[0m\n\u001B[0;32m----> 1\u001B[0m \u001B[43mcollection\u001B[49m\u001B[38;5;241;43m.\u001B[39;49m\u001B[43madd\u001B[49m\u001B[43m(\u001B[49m\n\u001B[1;32m      2\u001B[0m \u001B[43m    \u001B[49m\u001B[43mdocuments\u001B[49m\u001B[38;5;241;43m=\u001B[39;49m\u001B[43m[\u001B[49m\u001B[38;5;124;43m\"\u001B[39;49m\u001B[38;5;124;43mlorem ipsum...\u001B[39;49m\u001B[38;5;124;43m\"\u001B[39;49m\u001B[43m,\u001B[49m\u001B[43m \u001B[49m\u001B[38;5;124;43m\"\u001B[39;49m\u001B[38;5;124;43mdoc2\u001B[39;49m\u001B[38;5;124;43m\"\u001B[39;49m\u001B[43m,\u001B[49m\u001B[43m \u001B[49m\u001B[38;5;124;43m\"\u001B[39;49m\u001B[38;5;124;43mdoc3\u001B[39;49m\u001B[38;5;124;43m\"\u001B[39;49m\u001B[43m,\u001B[49m\u001B[43m \u001B[49m\u001B[38;5;241;43m.\u001B[39;49m\u001B[38;5;241;43m.\u001B[39;49m\u001B[38;5;241;43m.\u001B[39;49m\u001B[43m]\u001B[49m\u001B[43m,\u001B[49m\n\u001B[1;32m      3\u001B[0m \u001B[43m    \u001B[49m\u001B[43mmetadatas\u001B[49m\u001B[38;5;241;43m=\u001B[39;49m\u001B[43m[\u001B[49m\u001B[43m{\u001B[49m\u001B[38;5;124;43m\"\u001B[39;49m\u001B[38;5;124;43mchapter\u001B[39;49m\u001B[38;5;124;43m\"\u001B[39;49m\u001B[43m:\u001B[49m\u001B[43m \u001B[49m\u001B[38;5;124;43m\"\u001B[39;49m\u001B[38;5;124;43m3\u001B[39;49m\u001B[38;5;124;43m\"\u001B[39;49m\u001B[43m,\u001B[49m\u001B[43m \u001B[49m\u001B[38;5;124;43m\"\u001B[39;49m\u001B[38;5;124;43mverse\u001B[39;49m\u001B[38;5;124;43m\"\u001B[39;49m\u001B[43m:\u001B[49m\u001B[43m \u001B[49m\u001B[38;5;124;43m\"\u001B[39;49m\u001B[38;5;124;43m16\u001B[39;49m\u001B[38;5;124;43m\"\u001B[39;49m\u001B[43m}\u001B[49m\u001B[43m,\u001B[49m\u001B[43m \u001B[49m\u001B[43m{\u001B[49m\u001B[38;5;124;43m\"\u001B[39;49m\u001B[38;5;124;43mchapter\u001B[39;49m\u001B[38;5;124;43m\"\u001B[39;49m\u001B[43m:\u001B[49m\u001B[43m \u001B[49m\u001B[38;5;124;43m\"\u001B[39;49m\u001B[38;5;124;43m3\u001B[39;49m\u001B[38;5;124;43m\"\u001B[39;49m\u001B[43m,\u001B[49m\u001B[43m \u001B[49m\u001B[38;5;124;43m\"\u001B[39;49m\u001B[38;5;124;43mverse\u001B[39;49m\u001B[38;5;124;43m\"\u001B[39;49m\u001B[43m:\u001B[49m\u001B[43m \u001B[49m\u001B[38;5;124;43m\"\u001B[39;49m\u001B[38;5;124;43m5\u001B[39;49m\u001B[38;5;124;43m\"\u001B[39;49m\u001B[43m}\u001B[49m\u001B[43m,\u001B[49m\u001B[43m \u001B[49m\u001B[43m{\u001B[49m\u001B[38;5;124;43m\"\u001B[39;49m\u001B[38;5;124;43mchapter\u001B[39;49m\u001B[38;5;124;43m\"\u001B[39;49m\u001B[43m:\u001B[49m\u001B[43m \u001B[49m\u001B[38;5;124;43m\"\u001B[39;49m\u001B[38;5;124;43m29\u001B[39;49m\u001B[38;5;124;43m\"\u001B[39;49m\u001B[43m,\u001B[49m\u001B[43m \u001B[49m\u001B[38;5;124;43m\"\u001B[39;49m\u001B[38;5;124;43mverse\u001B[39;49m\u001B[38;5;124;43m\"\u001B[39;49m\u001B[43m:\u001B[49m\u001B[43m \u001B[49m\u001B[38;5;124;43m\"\u001B[39;49m\u001B[38;5;124;43m11\u001B[39;49m\u001B[38;5;124;43m\"\u001B[39;49m\u001B[43m}\u001B[49m\u001B[43m,\u001B[49m\u001B[43m \u001B[49m\u001B[38;5;241;43m.\u001B[39;49m\u001B[38;5;241;43m.\u001B[39;49m\u001B[38;5;241;43m.\u001B[39;49m\u001B[43m]\u001B[49m\u001B[43m,\u001B[49m\n\u001B[1;32m      4\u001B[0m \u001B[43m    \u001B[49m\u001B[43mids\u001B[49m\u001B[38;5;241;43m=\u001B[39;49m\u001B[43m[\u001B[49m\u001B[38;5;124;43m\"\u001B[39;49m\u001B[38;5;124;43mid1\u001B[39;49m\u001B[38;5;124;43m\"\u001B[39;49m\u001B[43m,\u001B[49m\u001B[43m \u001B[49m\u001B[38;5;124;43m\"\u001B[39;49m\u001B[38;5;124;43mid2\u001B[39;49m\u001B[38;5;124;43m\"\u001B[39;49m\u001B[43m,\u001B[49m\u001B[43m \u001B[49m\u001B[38;5;124;43m\"\u001B[39;49m\u001B[38;5;124;43mid3\u001B[39;49m\u001B[38;5;124;43m\"\u001B[39;49m\u001B[43m,\u001B[49m\u001B[43m \u001B[49m\u001B[38;5;241;43m.\u001B[39;49m\u001B[38;5;241;43m.\u001B[39;49m\u001B[38;5;241;43m.\u001B[39;49m\u001B[43m]\u001B[49m\n\u001B[1;32m      5\u001B[0m \u001B[43m)\u001B[49m\n",
      "File \u001B[0;32m~/Codes/github/python-examples/venv/lib/python3.10/site-packages/chromadb/api/models/Collection.py:146\u001B[0m, in \u001B[0;36mCollection.add\u001B[0;34m(self, ids, embeddings, metadatas, documents, images, uris)\u001B[0m\n\u001B[1;32m    104\u001B[0m \u001B[38;5;28;01mdef\u001B[39;00m \u001B[38;5;21madd\u001B[39m(\n\u001B[1;32m    105\u001B[0m     \u001B[38;5;28mself\u001B[39m,\n\u001B[1;32m    106\u001B[0m     ids: OneOrMany[ID],\n\u001B[0;32m   (...)\u001B[0m\n\u001B[1;32m    116\u001B[0m     uris: Optional[OneOrMany[URI]] \u001B[38;5;241m=\u001B[39m \u001B[38;5;28;01mNone\u001B[39;00m,\n\u001B[1;32m    117\u001B[0m ) \u001B[38;5;241m-\u001B[39m\u001B[38;5;241m>\u001B[39m \u001B[38;5;28;01mNone\u001B[39;00m:\n\u001B[1;32m    118\u001B[0m \u001B[38;5;250m    \u001B[39m\u001B[38;5;124;03m\"\"\"Add embeddings to the data store.\u001B[39;00m\n\u001B[1;32m    119\u001B[0m \u001B[38;5;124;03m    Args:\u001B[39;00m\n\u001B[1;32m    120\u001B[0m \u001B[38;5;124;03m        ids: The ids of the embeddings you wish to add\u001B[39;00m\n\u001B[0;32m   (...)\u001B[0m\n\u001B[1;32m    136\u001B[0m \n\u001B[1;32m    137\u001B[0m \u001B[38;5;124;03m    \"\"\"\u001B[39;00m\n\u001B[1;32m    139\u001B[0m     (\n\u001B[1;32m    140\u001B[0m         ids,\n\u001B[1;32m    141\u001B[0m         embeddings,\n\u001B[1;32m    142\u001B[0m         metadatas,\n\u001B[1;32m    143\u001B[0m         documents,\n\u001B[1;32m    144\u001B[0m         images,\n\u001B[1;32m    145\u001B[0m         uris,\n\u001B[0;32m--> 146\u001B[0m     ) \u001B[38;5;241m=\u001B[39m \u001B[38;5;28;43mself\u001B[39;49m\u001B[38;5;241;43m.\u001B[39;49m\u001B[43m_validate_embedding_set\u001B[49m\u001B[43m(\u001B[49m\n\u001B[1;32m    147\u001B[0m \u001B[43m        \u001B[49m\u001B[43mids\u001B[49m\u001B[43m,\u001B[49m\u001B[43m \u001B[49m\u001B[43membeddings\u001B[49m\u001B[43m,\u001B[49m\u001B[43m \u001B[49m\u001B[43mmetadatas\u001B[49m\u001B[43m,\u001B[49m\u001B[43m \u001B[49m\u001B[43mdocuments\u001B[49m\u001B[43m,\u001B[49m\u001B[43m \u001B[49m\u001B[43mimages\u001B[49m\u001B[43m,\u001B[49m\u001B[43m \u001B[49m\u001B[43muris\u001B[49m\n\u001B[1;32m    148\u001B[0m \u001B[43m    \u001B[49m\u001B[43m)\u001B[49m\n\u001B[1;32m    150\u001B[0m     \u001B[38;5;66;03m# We need to compute the embeddings if they're not provided\u001B[39;00m\n\u001B[1;32m    151\u001B[0m     \u001B[38;5;28;01mif\u001B[39;00m embeddings \u001B[38;5;129;01mis\u001B[39;00m \u001B[38;5;28;01mNone\u001B[39;00m:\n\u001B[1;32m    152\u001B[0m         \u001B[38;5;66;03m# At this point, we know that one of documents or images are provided from the validation above\u001B[39;00m\n",
      "File \u001B[0;32m~/Codes/github/python-examples/venv/lib/python3.10/site-packages/chromadb/api/models/Collection.py:545\u001B[0m, in \u001B[0;36mCollection._validate_embedding_set\u001B[0;34m(self, ids, embeddings, metadatas, documents, images, uris, require_embeddings_or_data)\u001B[0m\n\u001B[1;32m    523\u001B[0m \u001B[38;5;28;01mdef\u001B[39;00m \u001B[38;5;21m_validate_embedding_set\u001B[39m(\n\u001B[1;32m    524\u001B[0m     \u001B[38;5;28mself\u001B[39m,\n\u001B[1;32m    525\u001B[0m     ids: OneOrMany[ID],\n\u001B[0;32m   (...)\u001B[0m\n\u001B[1;32m    543\u001B[0m     Optional[URIs],\n\u001B[1;32m    544\u001B[0m ]:\n\u001B[0;32m--> 545\u001B[0m     valid_ids \u001B[38;5;241m=\u001B[39m \u001B[43mvalidate_ids\u001B[49m\u001B[43m(\u001B[49m\u001B[43mmaybe_cast_one_to_many_ids\u001B[49m\u001B[43m(\u001B[49m\u001B[43mids\u001B[49m\u001B[43m)\u001B[49m\u001B[43m)\u001B[49m\n\u001B[1;32m    546\u001B[0m     valid_embeddings \u001B[38;5;241m=\u001B[39m (\n\u001B[1;32m    547\u001B[0m         validate_embeddings(\n\u001B[1;32m    548\u001B[0m             \u001B[38;5;28mself\u001B[39m\u001B[38;5;241m.\u001B[39m_normalize_embeddings(maybe_cast_one_to_many_embedding(embeddings))\n\u001B[0;32m   (...)\u001B[0m\n\u001B[1;32m    551\u001B[0m         \u001B[38;5;28;01melse\u001B[39;00m \u001B[38;5;28;01mNone\u001B[39;00m\n\u001B[1;32m    552\u001B[0m     )\n\u001B[1;32m    553\u001B[0m     valid_metadatas \u001B[38;5;241m=\u001B[39m (\n\u001B[1;32m    554\u001B[0m         validate_metadatas(maybe_cast_one_to_many_metadata(metadatas))\n\u001B[1;32m    555\u001B[0m         \u001B[38;5;28;01mif\u001B[39;00m metadatas \u001B[38;5;129;01mis\u001B[39;00m \u001B[38;5;129;01mnot\u001B[39;00m \u001B[38;5;28;01mNone\u001B[39;00m\n\u001B[1;32m    556\u001B[0m         \u001B[38;5;28;01melse\u001B[39;00m \u001B[38;5;28;01mNone\u001B[39;00m\n\u001B[1;32m    557\u001B[0m     )\n",
      "File \u001B[0;32m~/Codes/github/python-examples/venv/lib/python3.10/site-packages/chromadb/api/types.py:218\u001B[0m, in \u001B[0;36mvalidate_ids\u001B[0;34m(ids)\u001B[0m\n\u001B[1;32m    216\u001B[0m \u001B[38;5;28;01mfor\u001B[39;00m id_ \u001B[38;5;129;01min\u001B[39;00m ids:\n\u001B[1;32m    217\u001B[0m     \u001B[38;5;28;01mif\u001B[39;00m \u001B[38;5;129;01mnot\u001B[39;00m \u001B[38;5;28misinstance\u001B[39m(id_, \u001B[38;5;28mstr\u001B[39m):\n\u001B[0;32m--> 218\u001B[0m         \u001B[38;5;28;01mraise\u001B[39;00m \u001B[38;5;167;01mValueError\u001B[39;00m(\u001B[38;5;124mf\u001B[39m\u001B[38;5;124m\"\u001B[39m\u001B[38;5;124mExpected ID to be a str, got \u001B[39m\u001B[38;5;132;01m{\u001B[39;00mid_\u001B[38;5;132;01m}\u001B[39;00m\u001B[38;5;124m\"\u001B[39m)\n\u001B[1;32m    219\u001B[0m     \u001B[38;5;28;01mif\u001B[39;00m id_ \u001B[38;5;129;01min\u001B[39;00m seen:\n\u001B[1;32m    220\u001B[0m         dups\u001B[38;5;241m.\u001B[39madd(id_)\n",
      "\u001B[0;31mValueError\u001B[0m: Expected ID to be a str, got Ellipsis"
     ]
    }
   ],
   "source": [
    "collection.add(\n",
    "    documents=[\"lorem ipsum...\", \"doc2\", \"doc3\", ...],\n",
    "    metadatas=[{\"chapter\": \"3\", \"verse\": \"16\"}, {\"chapter\": \"3\", \"verse\": \"5\"}, {\"chapter\": \"29\", \"verse\": \"11\"}, ...],\n",
    "    ids=[\"id1\", \"id2\", \"id3\", ...]\n",
    ")"
   ],
   "metadata": {
    "collapsed": false,
    "ExecuteTime": {
     "end_time": "2024-01-08T06:11:32.130197Z",
     "start_time": "2024-01-08T06:11:32.069540Z"
    }
   },
   "id": "fcaaaa5c8949960d"
  },
  {
   "cell_type": "code",
   "execution_count": null,
   "outputs": [],
   "source": [
    "collection.add(\n",
    "    documents=[\"doc1\", \"doc2\", \"doc3\", ...],\n",
    "    embeddings=[[1.1, 2.3, 3.2], [4.5, 6.9, 4.4], [1.1, 2.3, 3.2], ...],\n",
    "    metadatas=[{\"chapter\": \"3\", \"verse\": \"16\"}, {\"chapter\": \"3\", \"verse\": \"5\"}, {\"chapter\": \"29\", \"verse\": \"11\"}, ...],\n",
    "    ids=[\"id1\", \"id2\", \"id3\", ...]\n",
    ")"
   ],
   "metadata": {
    "collapsed": false
   },
   "id": "e09fa5e327600be3"
  }
 ],
 "metadata": {
  "kernelspec": {
   "display_name": "Python 3",
   "language": "python",
   "name": "python3"
  },
  "language_info": {
   "codemirror_mode": {
    "name": "ipython",
    "version": 2
   },
   "file_extension": ".py",
   "mimetype": "text/x-python",
   "name": "python",
   "nbconvert_exporter": "python",
   "pygments_lexer": "ipython2",
   "version": "2.7.6"
  }
 },
 "nbformat": 4,
 "nbformat_minor": 5
}
