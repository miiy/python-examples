{
 "cells": [
  {
   "cell_type": "markdown",
   "source": [
    "## Chroma \n",
    "\n",
    "Chroma 是开源嵌入数据库。"
   ],
   "metadata": {
    "collapsed": false
   },
   "id": "e20e42e5539b5c2d"
  },
  {
   "cell_type": "code",
   "execution_count": null,
   "outputs": [],
   "source": [
    "!pip install chromadb"
   ],
   "metadata": {
    "collapsed": false
   },
   "id": "3ed091531534ff80"
  },
  {
   "cell_type": "code",
   "execution_count": 1,
   "outputs": [],
   "source": [
    "# Get the Chroma Client\n",
    "import chromadb\n",
    "chroma_client = chromadb.Client()\n",
    "\n",
    "# Creat a collection\n",
    "collection = chroma_client.create_collection('my_collection')"
   ],
   "metadata": {
    "collapsed": false,
    "ExecuteTime": {
     "end_time": "2024-01-08T05:15:58.115928Z",
     "start_time": "2024-01-08T05:15:55.767274Z"
    }
   },
   "id": "8fc11998cd923659"
  },
  {
   "cell_type": "code",
   "execution_count": 2,
   "outputs": [
    {
     "data": {
      "text/plain": "{'ids': [['id1', 'id2']],\n 'distances': [[0.7111214399337769, 1.0109773874282837]],\n 'metadatas': [[{'source': 'my_source'}, {'source': 'my_source'}]],\n 'embeddings': None,\n 'documents': [['This is a document', 'This is another document']],\n 'uris': None,\n 'data': None}"
     },
     "execution_count": 2,
     "metadata": {},
     "output_type": "execute_result"
    }
   ],
   "source": [
    "# Add some text documents to the collection\n",
    "# Chroma将存储您的文本，并自动处理标记化、嵌入和索引。\n",
    "collection.add(\n",
    "    documents=[\"This is a document\", \"This is another document\"],\n",
    "    metadatas=[{\"source\": \"my_source\"}, {\"source\": \"my_source\"}],\n",
    "    ids=[\"id1\", \"id2\"]\n",
    ")\n",
    "\n",
    "# 如果您自己已经生成了 embeddings，可以直接在加载他们：\n",
    "# collection.add(\n",
    "#     embeddings=[[1.2, 2.3, 4.5], [6.7, 8.2, 9.2]],\n",
    "#     documents=[\"This is a document\", \"This is another document\"],\n",
    "#     metadatas=[{\"source\": \"my_source\"}, {\"source\": \"my_source\"}],\n",
    "#     ids=[\"id1\", \"id2\"]\n",
    "# )\n",
    "\n",
    "# Query the collection\n",
    "results = collection.query(\n",
    "    query_texts=[\"This is a query document\"],\n",
    "    n_results=2\n",
    ")\n",
    "results"
   ],
   "metadata": {
    "collapsed": false,
    "ExecuteTime": {
     "end_time": "2024-01-08T05:15:59.182694Z",
     "start_time": "2024-01-08T05:15:58.122217Z"
    }
   },
   "id": "7b63a1b87b280ef5"
  },
  {
   "cell_type": "code",
   "execution_count": null,
   "outputs": [],
   "source": [],
   "metadata": {
    "collapsed": false
   },
   "id": "e1bc720f246298a0"
  }
 ],
 "metadata": {
  "kernelspec": {
   "display_name": "Python 3",
   "language": "python",
   "name": "python3"
  },
  "language_info": {
   "codemirror_mode": {
    "name": "ipython",
    "version": 2
   },
   "file_extension": ".py",
   "mimetype": "text/x-python",
   "name": "python",
   "nbconvert_exporter": "python",
   "pygments_lexer": "ipython2",
   "version": "2.7.6"
  }
 },
 "nbformat": 4,
 "nbformat_minor": 5
}
