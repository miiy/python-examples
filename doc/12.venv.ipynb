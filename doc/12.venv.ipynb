{
 "cells": [
  {
   "cell_type": "markdown",
   "id": "14beb2b2-ccae-496a-85d9-459b8720d5b4",
   "metadata": {},
   "source": [
    "# 虚拟环境和包"
   ]
  },
  {
   "cell_type": "markdown",
   "id": "53e3e54c-c856-43f9-9df5-64aff5dd4ff4",
   "metadata": {},
   "source": [
    "## 创建虚拟环境\n",
    "\n",
    "用于创建和管理虚拟环境的模块称为 venv。\n",
    "\n",
    "要创建虚拟环境，请确定要放置它的目录，并将 venv 模块作为脚本运行目录路径:\n",
    "\n",
    "```bash\n",
    "python -m venv tutorial-env\n",
    "```\n",
    "\n",
    "这将创建 tutorial-env 目录，如果它不存在的话，并在其中创建包含 Python 解释器副本和各种支持文件的目录。\n",
    "\n",
    "创建虚拟环境后，您可以激活它。\n",
    "\n",
    "```bash\n",
    "source tutorial-env/bin/activate\n",
    "```\n",
    "\n",
    "撤销激活一个虚拟环境：\n",
    "\n",
    "```bash\n",
    "deactivate\n",
    "```"
   ]
  },
  {
   "cell_type": "markdown",
   "id": "7bcefe55-0fbc-4c20-ada7-72b3613aad86",
   "metadata": {},
   "source": [
    "## 使用 pip 管理包\n",
    "\n",
    "通过指定包的名称来安装最新版本的包：\n",
    "\n",
    "```bash\n",
    "python -m pip install novas\n",
    "```\n",
    "\n",
    "通过提供包名称后跟 == 和版本号来安装特定版本的包：\n",
    "\n",
    "```bash\n",
    "python -m pip install requests==2.6.0\n",
    "```\n",
    "\n",
    "将软件包升级到最新版本:\n",
    "\n",
    "```bash\n",
    "python -m pip install --upgrade requests\n",
    "```\n",
    "\n",
    "删除包\n",
    "\n",
    "```bash\n",
    "python -m pip uninstall 后跟一个或多个要从虚拟环境中删除的包所对应的名称。\n",
    "```\n",
    "\n",
    "\n",
    "显示有关某个特定包的信息:\n",
    "\n",
    "```bash\n",
    "python -m pip show requests\n",
    "```\n",
    "\n",
    "显示所有在虚拟环境中安装的包:\n",
    "\n",
    "```bash\n",
    "python -m pip list \n",
    "```\n",
    "\n",
    "python -m pip freeze 将产生一个类似的已安装包列表，但其输出会使用 python -m pip install 所期望的格式。 一个常见的约定是将此列表放在 requirements.txt 文件中:\n",
    "\n",
    "```bash\n",
    "python -m pip freeze > requirements.txt\n",
    "```\n",
    "\n",
    "然后可以将 requirements.txt 提交给版本控制并作为应用程序的一部分提供。然后用户可以使用 install -r 安装所有必需的包：\n",
    "\n",
    "```bash\n",
    "python -m pip install -r requirements.txt\n",
    "```"
   ]
  },
  {
   "cell_type": "code",
   "execution_count": null,
   "id": "50e3d85c-f98e-48ff-b523-3484607cccf4",
   "metadata": {},
   "outputs": [],
   "source": []
  }
 ],
 "metadata": {
  "kernelspec": {
   "display_name": "Python 3 (ipykernel)",
   "language": "python",
   "name": "python3"
  },
  "language_info": {
   "codemirror_mode": {
    "name": "ipython",
    "version": 3
   },
   "file_extension": ".py",
   "mimetype": "text/x-python",
   "name": "python",
   "nbconvert_exporter": "python",
   "pygments_lexer": "ipython3",
   "version": "3.8.4"
  }
 },
 "nbformat": 4,
 "nbformat_minor": 5
}
