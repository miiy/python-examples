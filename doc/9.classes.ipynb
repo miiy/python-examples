{
 "cells": [
  {
   "cell_type": "markdown",
   "id": "8079b83d-4103-45ae-a6b1-2cf18ba28ac6",
   "metadata": {},
   "source": [
    "# 类"
   ]
  },
  {
   "cell_type": "markdown",
   "id": "7aba0c1a-52ad-4bf3-8d5c-bf6fb307a22f",
   "metadata": {},
   "source": [
    "## 名称和对象"
   ]
  },
  {
   "cell_type": "markdown",
   "id": "1fc09ce6-d493-476b-b574-7a87e9804006",
   "metadata": {},
   "source": [
    "## Python 作用域和命名空间\n",
    "\n",
    "global 语句用于表明特定变量在全局作用域里，并应在全局作用域中重新绑定；\n",
    "\n",
    "nonlocal 语句表明特定变量在外层作用域中，并应在外层作用域中重新绑定。"
   ]
  },
  {
   "cell_type": "code",
   "execution_count": 4,
   "id": "f488e12b-82c3-4ddf-a043-ae95656c582f",
   "metadata": {},
   "outputs": [
    {
     "name": "stdout",
     "output_type": "stream",
     "text": [
      "After local assignment: test spam\n",
      "After nonlocal assignment: nonlocal spm\n",
      "After global assignment: nonlocal spm\n",
      "In global scope: global spam\n"
     ]
    }
   ],
   "source": [
    "def scope_test():\n",
    "    def do_local():\n",
    "        spam = \"local spam\"\n",
    "    def do_nonlocal():\n",
    "        nonlocal spam\n",
    "        spam = \"nonlocal spm\"\n",
    "    def do_global():\n",
    "        global spam\n",
    "        spam = \"global spam\"\n",
    "    spam = \"test spam\"\n",
    "    do_local()\n",
    "    print(\"After local assignment:\", spam)\n",
    "    do_nonlocal()\n",
    "    print(\"After nonlocal assignment:\", spam)\n",
    "    do_global()\n",
    "    print(\"After global assignment:\", spam)\n",
    "\n",
    "scope_test()\n",
    "print(\"In global scope:\", spam)"
   ]
  },
  {
   "cell_type": "markdown",
   "id": "0100d268-4c7b-458e-bbcc-9f492eb6b660",
   "metadata": {},
   "source": [
    "## 初探类"
   ]
  },
  {
   "cell_type": "markdown",
   "id": "678597d2-7074-4efa-835a-8fa9c5f6d205",
   "metadata": {},
   "source": [
    "### 类定义语法"
   ]
  },
  {
   "cell_type": "code",
   "execution_count": null,
   "id": "acba1f35-3018-495e-999d-6cb39b9da92c",
   "metadata": {},
   "outputs": [],
   "source": [
    "class ClassName:\n",
    "    <statement-1>\n",
    "    .\n",
    "    .\n",
    "    .\n",
    "    <statement-N>"
   ]
  },
  {
   "cell_type": "markdown",
   "id": "05efb269-74e2-47b6-bad2-7f6795a1bce3",
   "metadata": {},
   "source": [
    "### Class 对象"
   ]
  },
  {
   "cell_type": "code",
   "execution_count": 8,
   "id": "da09dbf3-681c-419f-8e58-a13dbd15ec15",
   "metadata": {},
   "outputs": [
    {
     "data": {
      "text/plain": [
       "'hello world'"
      ]
     },
     "execution_count": 8,
     "metadata": {},
     "output_type": "execute_result"
    }
   ],
   "source": [
    "class MyClass:\n",
    "    \"\"\"A simple example class\"\"\"\n",
    "    i = 12345\n",
    "\n",
    "    def f(self):\n",
    "        return 'hello world'\n",
    "x = MyClass()\n",
    "x.f()"
   ]
  },
  {
   "cell_type": "code",
   "execution_count": 9,
   "id": "607bfd5f-5535-4e53-a5e1-6de6a4fade93",
   "metadata": {},
   "outputs": [
    {
     "data": {
      "text/plain": [
       "(3.0, -4.5)"
      ]
     },
     "execution_count": 9,
     "metadata": {},
     "output_type": "execute_result"
    }
   ],
   "source": [
    "# __init__() 方法\n",
    "class Complex:\n",
    "    def __init__(self, realpart, imagpart):\n",
    "        self.r = realpart\n",
    "        self.i = imagpart\n",
    "x = Complex(3.0, -4.5)\n",
    "x.r, x.i"
   ]
  },
  {
   "cell_type": "markdown",
   "id": "eae4cf90-e849-418f-914a-0955a5b5f561",
   "metadata": {},
   "source": [
    "### 实例对象"
   ]
  },
  {
   "cell_type": "markdown",
   "id": "a2242ac8-2770-4e6f-b64d-4d89ed84ca4c",
   "metadata": {},
   "source": [
    "### 方法对象"
   ]
  },
  {
   "cell_type": "markdown",
   "id": "48f301af-2905-438b-97d2-2c16aa9849e1",
   "metadata": {},
   "source": [
    "### 类和实例变量\n",
    "\n",
    "一般来说，实例变量用于每个实例的唯一数据，而类变量用于类的所有实例共享的属性和方法:"
   ]
  },
  {
   "cell_type": "code",
   "execution_count": 14,
   "id": "3e45c21f-6988-4129-8dad-5100b3202b1c",
   "metadata": {},
   "outputs": [
    {
     "name": "stdout",
     "output_type": "stream",
     "text": [
      "canine\n",
      "canine\n",
      "fido\n",
      "Buddy\n"
     ]
    }
   ],
   "source": [
    "class Dog:\n",
    "\n",
    "    kind = 'canine'         # class variable shared by all instances\n",
    "\n",
    "    def __init__(self, name):\n",
    "        self.name = name    # instance variable unique to each instance\n",
    "\n",
    "d = Dog('fido')\n",
    "e = Dog('Buddy')\n",
    "print(d.kind)\n",
    "print(e.kind)\n",
    "print(d.name)\n",
    "print(e.name)"
   ]
  },
  {
   "cell_type": "code",
   "execution_count": 15,
   "id": "ba687d09-8792-4b56-b5cf-8b9d7219b0b7",
   "metadata": {},
   "outputs": [
    {
     "data": {
      "text/plain": [
       "['roll over', 'play dead']"
      ]
     },
     "execution_count": 15,
     "metadata": {},
     "output_type": "execute_result"
    }
   ],
   "source": [
    "class Dog:\n",
    "\n",
    "    tricks = []             # mistaken use of a class variable\n",
    "\n",
    "    def __init__(self, name):\n",
    "        self.name = name\n",
    "\n",
    "    def add_trick(self, trick):\n",
    "        self.tricks.append(trick)\n",
    "\n",
    "d = Dog('Fido')\n",
    "e = Dog('Buddy')\n",
    "d.add_trick('roll over')\n",
    "e.add_trick('play dead')\n",
    "d.tricks"
   ]
  },
  {
   "cell_type": "code",
   "execution_count": 17,
   "id": "8d090ee6-f9fb-4bf9-9a95-d15b4ee7d0eb",
   "metadata": {},
   "outputs": [
    {
     "name": "stdout",
     "output_type": "stream",
     "text": [
      "['roll over']\n",
      "['play dead']\n"
     ]
    }
   ],
   "source": [
    "class Dog:\n",
    "\n",
    "    def __init__(self, name):\n",
    "        self.name = name\n",
    "        self.tricks = []    # creates a new empty list for each dog\n",
    "\n",
    "    def add_trick(self, trick):\n",
    "        self.tricks.append(trick)\n",
    "\n",
    "d = Dog('Fido')\n",
    "e = Dog('Buddy')\n",
    "d.add_trick('roll over')\n",
    "e.add_trick('play dead')\n",
    "print(d.tricks)\n",
    "print(e.tricks)"
   ]
  },
  {
   "cell_type": "markdown",
   "id": "a44de66b-fb85-40aa-9aec-8e21be04e504",
   "metadata": {},
   "source": [
    "## 继承"
   ]
  },
  {
   "cell_type": "code",
   "execution_count": null,
   "id": "d870eebb-5235-45c6-adb0-db37fd6e032b",
   "metadata": {},
   "outputs": [],
   "source": [
    "class DerivedClassName(BaseClassName):\n",
    "    <statement-1>\n",
    "    .\n",
    "    .\n",
    "    .\n",
    "    <statement-N>"
   ]
  },
  {
   "cell_type": "markdown",
   "id": "303a444d-71c9-4fea-8777-47972796d791",
   "metadata": {},
   "source": [
    "### 多重继承"
   ]
  },
  {
   "cell_type": "code",
   "execution_count": null,
   "id": "55012b15-2cf3-456b-b2ea-f2eb209e25b8",
   "metadata": {},
   "outputs": [],
   "source": [
    "class DerivedClassName(Base1, Base2, Base3):\n",
    "    <statement-1>\n",
    "    .\n",
    "    .\n",
    "    .\n",
    "    <statement-N>"
   ]
  },
  {
   "cell_type": "markdown",
   "id": "0e3fb76c-7cef-479a-9d50-3ec3da1c8628",
   "metadata": {},
   "source": [
    "## 私有变量\n",
    "\n",
    "那种仅限从一个对象内部访问的“私有”实例变量在 Python 中并不存在。\n",
    "\n",
    "但是，大多数 Python 代码都遵循这样一个约定：带有一个下划线的名称 (例如 _spam) 应该被当作是 API 的非公有部分 (无论它是函数、方法或是数据成员)。"
   ]
  },
  {
   "cell_type": "code",
   "execution_count": null,
   "id": "e2b3ed7a-50f2-47a0-a42f-40fcf603cade",
   "metadata": {},
   "outputs": [],
   "source": [
    "class Mapping:\n",
    "    def __init__(self, iterable):\n",
    "        self.items_list = []\n",
    "        self.__update(iterable)\n",
    "    def update(self, iterable):\n",
    "        for item in iterable:\n",
    "            self.items_list.append(item)\n",
    "\n",
    "    __update = update   # private copy of original update() method\n",
    "\n",
    "class MappingSubclass(Mapping):\n",
    "\n",
    "    def update(self, keys, values):\n",
    "        # provides new signature for update()\n",
    "        # but does not break __init__()\n",
    "        for item in zip(keys, values):\n",
    "            self.items_list.append(item)"
   ]
  },
  {
   "cell_type": "markdown",
   "id": "2af6c6ea-7260-4d1b-8b19-891946a58886",
   "metadata": {},
   "source": [
    "## 迭代器"
   ]
  },
  {
   "cell_type": "markdown",
   "id": "ea2e5d9e-75e3-45d0-bf9c-fa7450b317c7",
   "metadata": {},
   "source": [
    "## 生成器\n",
    "\n",
    "生成器 是一个用于创建迭代器的简单而强大的工具。"
   ]
  },
  {
   "cell_type": "code",
   "execution_count": 19,
   "id": "de663d3e-ec53-4cb9-afac-cd51d5b57b26",
   "metadata": {},
   "outputs": [
    {
     "name": "stdout",
     "output_type": "stream",
     "text": [
      "f\n",
      "l\n",
      "o\n",
      "g\n"
     ]
    }
   ],
   "source": [
    "def reverse(data):\n",
    "    for index in range(len(data)-1, -1, -1):\n",
    "        yield data[index]\n",
    "for char in reverse('golf'):\n",
    "    print(char)"
   ]
  },
  {
   "cell_type": "markdown",
   "id": "68755c09-42dc-44e0-a3c4-03616b12f17e",
   "metadata": {},
   "source": [
    "## 生成器表达式"
   ]
  },
  {
   "cell_type": "code",
   "execution_count": 21,
   "id": "ea8bcdb4-f04a-4ea5-9d32-0a4826df3486",
   "metadata": {},
   "outputs": [
    {
     "data": {
      "text/plain": [
       "285"
      ]
     },
     "execution_count": 21,
     "metadata": {},
     "output_type": "execute_result"
    }
   ],
   "source": [
    "sum(i*i for i in range(10))                 # sum of squares"
   ]
  },
  {
   "cell_type": "code",
   "execution_count": 22,
   "id": "9951296d-61ae-4b95-a05c-d7a4f248286e",
   "metadata": {},
   "outputs": [
    {
     "data": {
      "text/plain": [
       "260"
      ]
     },
     "execution_count": 22,
     "metadata": {},
     "output_type": "execute_result"
    }
   ],
   "source": [
    "xvec = [10, 20, 30]\n",
    "yvec = [7, 5, 3]\n",
    "sum(x*y for x,y in zip(xvec, yvec))"
   ]
  },
  {
   "cell_type": "code",
   "execution_count": 26,
   "id": "61e95c65-ae66-46c9-b421-958a0a792a46",
   "metadata": {},
   "outputs": [
    {
     "ename": "NameError",
     "evalue": "name 'page' is not defined",
     "output_type": "error",
     "traceback": [
      "\u001b[0;31m---------------------------------------------------------------------------\u001b[0m",
      "\u001b[0;31mNameError\u001b[0m                                 Traceback (most recent call last)",
      "Cell \u001b[0;32mIn[26], line 1\u001b[0m\n\u001b[0;32m----> 1\u001b[0m unique_words \u001b[38;5;241m=\u001b[39m \u001b[38;5;28mset\u001b[39m(word \u001b[38;5;28;01mfor\u001b[39;00m line \u001b[38;5;129;01min\u001b[39;00m \u001b[43mpage\u001b[49m  \u001b[38;5;28;01mfor\u001b[39;00m word \u001b[38;5;129;01min\u001b[39;00m line\u001b[38;5;241m.\u001b[39msplit())\n\u001b[1;32m      2\u001b[0m valedictorian \u001b[38;5;241m=\u001b[39m \u001b[38;5;28mmax\u001b[39m((student\u001b[38;5;241m.\u001b[39mgpa, student\u001b[38;5;241m.\u001b[39mname) \u001b[38;5;28;01mfor\u001b[39;00m student \u001b[38;5;129;01min\u001b[39;00m graduates)\n",
      "\u001b[0;31mNameError\u001b[0m: name 'page' is not defined"
     ]
    }
   ],
   "source": [
    "unique_words = set(word for line in page  for word in line.split())\n",
    "valedictorian = max((student.gpa, student.name) for student in graduates)"
   ]
  },
  {
   "cell_type": "code",
   "execution_count": 27,
   "id": "798dcdab-de1f-4226-be65-ac826ecc5874",
   "metadata": {},
   "outputs": [
    {
     "data": {
      "text/plain": [
       "['f', 'l', 'o', 'g']"
      ]
     },
     "execution_count": 27,
     "metadata": {},
     "output_type": "execute_result"
    }
   ],
   "source": [
    "data = 'golf'\n",
    "list(data[i] for i in range(len(data)-1, -1, -1))"
   ]
  }
 ],
 "metadata": {
  "kernelspec": {
   "display_name": "Python 3 (ipykernel)",
   "language": "python",
   "name": "python3"
  },
  "language_info": {
   "codemirror_mode": {
    "name": "ipython",
    "version": 3
   },
   "file_extension": ".py",
   "mimetype": "text/x-python",
   "name": "python",
   "nbconvert_exporter": "python",
   "pygments_lexer": "ipython3",
   "version": "3.8.4"
  }
 },
 "nbformat": 4,
 "nbformat_minor": 5
}
