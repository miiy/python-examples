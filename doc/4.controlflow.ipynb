{
 "cells": [
  {
   "cell_type": "markdown",
   "id": "2abe13e8-42b2-4576-8f7a-95e11792d54e",
   "metadata": {},
   "source": [
    "# 更多控制流工具"
   ]
  },
  {
   "cell_type": "markdown",
   "id": "d2ea6437-a440-4e38-bb40-4e7b28081e01",
   "metadata": {},
   "source": [
    "## if 语句\n",
    "\n",
    "elif 是 else if 的缩写，用于避免过多的缩进"
   ]
  },
  {
   "cell_type": "code",
   "execution_count": 1,
   "id": "32132512-8e9b-44b7-81ff-61646802f272",
   "metadata": {},
   "outputs": [
    {
     "name": "stdin",
     "output_type": "stream",
     "text": [
      "Please enter an integer:  42\n"
     ]
    }
   ],
   "source": [
    "x = int(input(\"Please enter an integer: \"))"
   ]
  },
  {
   "cell_type": "code",
   "execution_count": 4,
   "id": "8ecba57b-27e9-40b4-81d7-07376bd4e191",
   "metadata": {},
   "outputs": [
    {
     "name": "stdout",
     "output_type": "stream",
     "text": [
      "More\n"
     ]
    }
   ],
   "source": [
    "if x < 0:\n",
    "    x = 0\n",
    "    print('Negative changed to zero')\n",
    "elif x == 0:\n",
    "    print('zero')\n",
    "elif x == 1:\n",
    "    print('Single')\n",
    "else:\n",
    "    print('More')"
   ]
  },
  {
   "cell_type": "code",
   "execution_count": null,
   "id": "30126f02-3343-4988-8528-c5b94a3fae03",
   "metadata": {},
   "outputs": [],
   "source": []
  },
  {
   "cell_type": "markdown",
   "id": "0efe9ab6-3d04-4966-a8bf-60934d8a045f",
   "metadata": {},
   "source": [
    "## for 语句\n",
    "\n",
    "Python 的 for 语句不迭代蒜素递增数值"
   ]
  },
  {
   "cell_type": "code",
   "execution_count": 5,
   "id": "0bc5df23-bb8d-4d6b-8fbc-066d87be769e",
   "metadata": {},
   "outputs": [
    {
     "name": "stdout",
     "output_type": "stream",
     "text": [
      "cat 3\n",
      "window 6\n",
      "defenestrate 12\n"
     ]
    }
   ],
   "source": [
    "# Measure some strings:\n",
    "words = ['cat', 'window', 'defenestrate']\n",
    "for w in words:\n",
    "    print(w, len(w))"
   ]
  },
  {
   "cell_type": "code",
   "execution_count": null,
   "id": "14fb09aa-556c-4b2a-9169-cd3749605539",
   "metadata": {},
   "outputs": [],
   "source": []
  },
  {
   "cell_type": "code",
   "execution_count": 8,
   "id": "5dd56667-fc1d-4ee3-af34-3839a35d8632",
   "metadata": {},
   "outputs": [
    {
     "data": {
      "text/plain": [
       "{'Hans': 'active', '景太郎': 'active'}"
      ]
     },
     "execution_count": 8,
     "metadata": {},
     "output_type": "execute_result"
    }
   ],
   "source": [
    "# 很难正确地在迭代多项集的同时修改多项集的内容。更简单的方法是迭代多项集的副本或者创建新的多项集：\n",
    "# Create a sample collection\n",
    "users = {'Hans': 'active', 'Éléonore': 'inactive', '景太郎': 'active'}\n",
    "\n",
    "# Strategy:  Iterate over a copy\n",
    "for user, status in users.copy().items():\n",
    "    if status == 'inactive':\n",
    "        del users[user]\n",
    "\n",
    "# Strategy: Create a new collection\n",
    "active_users = {}\n",
    "for user, status in users.items():\n",
    "    if status == 'active':\n",
    "        active_users[user] = status"
   ]
  },
  {
   "cell_type": "code",
   "execution_count": null,
   "id": "b73e211b-8855-45f9-9137-d03f34c6c274",
   "metadata": {},
   "outputs": [],
   "source": []
  },
  {
   "cell_type": "markdown",
   "id": "c48eb323-eb95-4ca1-aa3b-b1bc81f8f026",
   "metadata": {},
   "source": [
    "## range 函数\n",
    "\n",
    "内置函数 range() 用于生成等差数列："
   ]
  },
  {
   "cell_type": "code",
   "execution_count": 9,
   "id": "112d0b3d-24c9-40e8-a51f-b7f669d9e46a",
   "metadata": {},
   "outputs": [
    {
     "name": "stdout",
     "output_type": "stream",
     "text": [
      "0\n",
      "1\n",
      "2\n",
      "3\n",
      "4\n"
     ]
    }
   ],
   "source": [
    "for i in range(5):\n",
    "    print(i)"
   ]
  },
  {
   "cell_type": "markdown",
   "id": "4d6eae40-818c-4476-9fa2-1ee38620e27b",
   "metadata": {},
   "source": [
    "生成的序列绝不会包括给定的终止值\n",
    "\n",
    "range 可以不从 0 开始，且可以按给定的步长递增"
   ]
  },
  {
   "cell_type": "code",
   "execution_count": 10,
   "id": "309f00bb-0378-49dc-b689-f40524675df4",
   "metadata": {},
   "outputs": [
    {
     "data": {
      "text/plain": [
       "[5, 6, 7, 8, 9]"
      ]
     },
     "execution_count": 10,
     "metadata": {},
     "output_type": "execute_result"
    }
   ],
   "source": [
    "list(range(5, 10))"
   ]
  },
  {
   "cell_type": "code",
   "execution_count": 11,
   "id": "6bf2a209-19c0-48f6-96d1-850d8b66b951",
   "metadata": {},
   "outputs": [
    {
     "data": {
      "text/plain": [
       "[0, 3, 6, 9]"
      ]
     },
     "execution_count": 11,
     "metadata": {},
     "output_type": "execute_result"
    }
   ],
   "source": [
    "list(range(0, 10, 3))"
   ]
  },
  {
   "cell_type": "code",
   "execution_count": 12,
   "id": "03496dd0-5937-4940-9bb5-210710be7e8b",
   "metadata": {},
   "outputs": [
    {
     "data": {
      "text/plain": [
       "[-10, -40, -70]"
      ]
     },
     "execution_count": 12,
     "metadata": {},
     "output_type": "execute_result"
    }
   ],
   "source": [
    "list(range(-10, -100, -30))"
   ]
  },
  {
   "cell_type": "code",
   "execution_count": 15,
   "id": "ca059c57-0959-4a0a-9c54-8e9004a1bf8b",
   "metadata": {},
   "outputs": [
    {
     "name": "stdout",
     "output_type": "stream",
     "text": [
      "0 Mary\n",
      "1 had\n",
      "2 a\n",
      "3 little\n",
      "4 lamb\n"
     ]
    }
   ],
   "source": [
    "# 要按索引迭代序列，可以组合使用 range() 和 len()\n",
    "a = ['Mary', 'had', 'a', 'little', 'lamb']\n",
    "for i in range(len(a)):\n",
    "    print(i, a[i])"
   ]
  },
  {
   "cell_type": "code",
   "execution_count": 20,
   "id": "63ed8ae1-05c8-4ac2-a1cf-3a9458660ea6",
   "metadata": {},
   "outputs": [
    {
     "name": "stdout",
     "output_type": "stream",
     "text": [
      "0 Mary\n",
      "1 had\n",
      "2 a\n",
      "3 little\n",
      "4 lamb\n"
     ]
    }
   ],
   "source": [
    "# enumerate() 函数很方便\n",
    "for i, v in enumerate(a):\n",
    "    print(i, v)"
   ]
  },
  {
   "cell_type": "code",
   "execution_count": 21,
   "id": "dc670db0-dfae-46a0-831d-20e63644539b",
   "metadata": {},
   "outputs": [
    {
     "data": {
      "text/plain": [
       "6"
      ]
     },
     "execution_count": 21,
     "metadata": {},
     "output_type": "execute_result"
    }
   ],
   "source": [
    "# range() 返回一个可迭代对象 iterable\n",
    "# sum() 以可迭代对象作为参数\n",
    "sum(range(4))"
   ]
  },
  {
   "cell_type": "code",
   "execution_count": null,
   "id": "78ae4972-6927-4088-ab65-8a0d5a2a17ee",
   "metadata": {},
   "outputs": [],
   "source": []
  },
  {
   "cell_type": "markdown",
   "id": "abeed0b4-cdf5-4708-b1d8-3fb857131194",
   "metadata": {},
   "source": [
    "## 循环中的 break、continue 语句及 else 子句\n",
    "\n",
    "在 for 循环中， else 子句会在循环成功结束最后一次迭代之后执行。"
   ]
  },
  {
   "cell_type": "code",
   "execution_count": 22,
   "id": "93fe8cc8-13d2-4704-9113-4a75f8c78be1",
   "metadata": {},
   "outputs": [
    {
     "name": "stdout",
     "output_type": "stream",
     "text": [
      "2 is a prie number\n",
      "3 is a prie number\n",
      "4 equals 2 * 2\n",
      "5 is a prie number\n",
      "6 equals 2 * 3\n",
      "7 is a prie number\n",
      "8 equals 2 * 4\n",
      "9 equals 3 * 3\n"
     ]
    }
   ],
   "source": [
    "# 搜索字数的 for 循环\n",
    "for n in range(2, 10):\n",
    "    for x in range(2, n):\n",
    "        if n % x == 0:\n",
    "            print(n, 'equals', x, '*', n//x)\n",
    "            break\n",
    "    else:\n",
    "        # loop fell through without finding a factor\n",
    "        print(n, 'is a prie number')\n",
    "# else 子句属于 for 循环，不属于 if 语句"
   ]
  },
  {
   "cell_type": "code",
   "execution_count": 1,
   "id": "bfaddd19-4711-4f09-bd78-831871193596",
   "metadata": {},
   "outputs": [
    {
     "name": "stdout",
     "output_type": "stream",
     "text": [
      "Found an even number 2\n",
      "Found an odd number 3\n",
      "Found an even number 4\n",
      "Found an odd number 5\n",
      "Found an even number 6\n",
      "Found an odd number 7\n",
      "Found an even number 8\n",
      "Found an odd number 9\n"
     ]
    }
   ],
   "source": [
    "# continue 语句，以执行循环的下一次迭代来继续：\n",
    "for num in range(2, 10):\n",
    "    if num % 2 == 0:\n",
    "        print(\"Found an even number\", num)\n",
    "        continue\n",
    "    print(\"Found an odd number\", num)"
   ]
  },
  {
   "cell_type": "markdown",
   "id": "017666c5-1325-4053-81b8-e685377dc7eb",
   "metadata": {},
   "source": [
    "## pass 语句\n",
    "\n",
    "pass 语句不执行任何动作。语法上需要一个语句，但程序无需执行任何动作时，可以使用该语句"
   ]
  },
  {
   "cell_type": "code",
   "execution_count": null,
   "id": "48a7eae0-4828-4088-bb03-03e6798ca032",
   "metadata": {},
   "outputs": [],
   "source": [
    "while True:\n",
    "    pass # Busy-wait for keyboard interrupt (Ctrl+C)"
   ]
  },
  {
   "cell_type": "code",
   "execution_count": null,
   "id": "ac17513b-52d1-46f2-9963-b560f0f5c195",
   "metadata": {},
   "outputs": [],
   "source": [
    "# 这常用于创建一个最小的类：\n",
    "class MyEmptyClass:\n",
    "    pass"
   ]
  },
  {
   "cell_type": "code",
   "execution_count": null,
   "id": "ebb33e61-7fc2-49d8-b44b-7e34c3293539",
   "metadata": {},
   "outputs": [],
   "source": [
    "# pass 还可用作函数或条件语句体的占位符，让你保持在更抽象的层次进行思考。pass 会被默默地忽略：\n",
    "def initlog(*args):\n",
    "    pass   # Remember to implement this!"
   ]
  },
  {
   "cell_type": "markdown",
   "id": "4640d254-545c-4b76-bca7-c363aa08f96e",
   "metadata": {},
   "source": [
    "## match 语句"
   ]
  },
  {
   "cell_type": "code",
   "execution_count": 12,
   "id": "ce35c4cd-3f5e-4d98-a400-e6e1de6611fa",
   "metadata": {},
   "outputs": [
    {
     "ename": "SyntaxError",
     "evalue": "invalid syntax (2591625217.py, line 2)",
     "output_type": "error",
     "traceback": [
      "\u001b[0;36m  Cell \u001b[0;32mIn[12], line 2\u001b[0;36m\u001b[0m\n\u001b[0;31m    match status:\u001b[0m\n\u001b[0m          ^\u001b[0m\n\u001b[0;31mSyntaxError\u001b[0m\u001b[0;31m:\u001b[0m invalid syntax\n"
     ]
    }
   ],
   "source": [
    "def http_error(status):\n",
    "    match status:\n",
    "        case 400:\n",
    "            return \"Bad request\"\n",
    "        case 404:\n",
    "            return \"Not found\"\n",
    "        case 418:\n",
    "            return \"I'm a teapot\"\n",
    "        case _:\n",
    "            return \"Something's wrong with the internet\"\n",
    "# “变量名” _ 被作为 通配符 并必定会匹配成功"
   ]
  },
  {
   "cell_type": "code",
   "execution_count": null,
   "id": "77498b38-03fe-4c8b-9dc3-ae3cb3916f06",
   "metadata": {},
   "outputs": [],
   "source": [
    "# 你可以用 | （“或”）将多个字面值组合到一个模式中：\n",
    "case 401 | 403 | 404:\n",
    "    return \"Not allowed\""
   ]
  },
  {
   "cell_type": "code",
   "execution_count": null,
   "id": "85e76f52-914d-4946-b574-7bd2c59f943d",
   "metadata": {},
   "outputs": [],
   "source": [
    "# 形如解包赋值的模式可被用于绑定变量：\n",
    "\n",
    "# point is an (x, y) tuple\n",
    "match point:\n",
    "    case (0, 0):\n",
    "        print(\"Origin\")\n",
    "    case (0, y):\n",
    "        print(f\"Y={y}\")\n",
    "    case (x, 0):\n",
    "        print(f\"X={x}\")\n",
    "    case (x, y):\n",
    "        print(f\"X={x}, Y={y}\")\n",
    "    case _:\n",
    "        raise ValueError(\"Not a point\")\n",
    "# 第一个模式有两个字面值，可视为前述字面值模式的扩展。\n",
    "# 接下来的两个模式结合了一个字面值和一个变量，变量 绑定 了来自主语（point）的一个值。\n",
    "# 第四个模式捕获了两个值，使其在概念上与解包赋值 (x, y) = point 类似。"
   ]
  },
  {
   "cell_type": "code",
   "execution_count": null,
   "id": "c3fde676-a5fd-4c71-9dc6-f956547d4005",
   "metadata": {},
   "outputs": [],
   "source": [
    "# 如果用类组织数据，可以用“类名后接一个参数列表”这种很像构造器的形式，把属性捕获到变量里：\n",
    "class Point:\n",
    "    def __init__(self, x, y):\n",
    "        self.x = x\n",
    "        self.y = y\n",
    "def where_is(point)\n",
    "    match point:\n",
    "        case Point(x=0, y=0):\n",
    "            print(\"Origin\")\n",
    "        case Point(x=0, y=y):\n",
    "            print(f\"Y={y}\")\n",
    "        case Point(x=x, y=0):\n",
    "            print(f\"X={x}\")\n",
    "        case Point():\n",
    "            print(\"Somewhere else\")\n",
    "        case _:\n",
    "            print(\"Not a point\")"
   ]
  },
  {
   "cell_type": "code",
   "execution_count": 13,
   "id": "8672962d-632b-4c2b-aa10-b400e62a85c3",
   "metadata": {},
   "outputs": [
    {
     "ename": "NameError",
     "evalue": "name 'Point' is not defined",
     "output_type": "error",
     "traceback": [
      "\u001b[0;31m---------------------------------------------------------------------------\u001b[0m",
      "\u001b[0;31mNameError\u001b[0m                                 Traceback (most recent call last)",
      "Cell \u001b[0;32mIn[13], line 1\u001b[0m\n\u001b[0;32m----> 1\u001b[0m \u001b[43mPoint\u001b[49m(\u001b[38;5;241m1\u001b[39m, var)\n",
      "\u001b[0;31mNameError\u001b[0m: name 'Point' is not defined"
     ]
    }
   ],
   "source": [
    "Point(1, var)\n",
    "Point(1, y=var)\n",
    "Point(x=1, y=var)\n",
    "Point(y=var, x=1)"
   ]
  },
  {
   "cell_type": "code",
   "execution_count": null,
   "id": "b6c7b9c5-15b1-435f-9c73-e35e5b80fb8e",
   "metadata": {},
   "outputs": [],
   "source": [
    "# 模式可以任意嵌套。\n",
    "# 举例来说，如果我们有一个由 Point 组成的列表，且 Point 添加了 __match_args__ 时，我们可以这样来匹配它：\n",
    "class Point:\n",
    "    __match_args__ = ('x', 'y')\n",
    "    def __init__(self, x, y):\n",
    "        self.x = x\n",
    "        self.y = y\n",
    "match points:\n",
    "    case []:\n",
    "        print(\"No points\")\n",
    "    case [Point(0, 0)]:\n",
    "        print(\"The origin\")\n",
    "    case [Point(x, y)]:\n",
    "        print(f\"Single point {x}, {y}\")\n",
    "    case [Point(0, y1), Point(0, y2)]:\n",
    "        print(f\"Two on the Y axis at {y1}, {y2}\")\n",
    "    case _:\n",
    "        print(\"Something else\")"
   ]
  },
  {
   "cell_type": "code",
   "execution_count": null,
   "id": "e747527d-9343-4eea-b89b-d8a9d26338c8",
   "metadata": {},
   "outputs": [],
   "source": [
    "# 我们可以为模式添加 if 作为守卫子句。\n",
    "# 如果守卫子句的值为假，那么 match 会继续尝试匹配下一个 case 块。注意是先将值捕获，再对守卫子句求值：\n",
    "match point:\n",
    "    case Point(x, y) if x == y:\n",
    "        print(f\"Y=X at {x}\")\n",
    "    case Point(x, y):\n",
    "        print(f\"Not on the diagonal\")"
   ]
  },
  {
   "cell_type": "code",
   "execution_count": null,
   "id": "8b9f50ee-808b-4330-a2f5-2c616b76141a",
   "metadata": {},
   "outputs": [],
   "source": []
  },
  {
   "cell_type": "markdown",
   "id": "a0b852b4-cf47-47d9-ab61-0d65f6feac97",
   "metadata": {},
   "source": [
    "## 定义函数\n",
    "\n",
    "定义 函数使用关键字 def，后跟函数名与括号内的形参列表。\n",
    "\n",
    "函数内的第一条语句是字符串时，该字符串就是文档字符串，也称为 docstring，详见 文档字符串。"
   ]
  },
  {
   "cell_type": "code",
   "execution_count": 18,
   "id": "f99a591b-4888-4eb6-9f9e-32c696190262",
   "metadata": {},
   "outputs": [
    {
     "name": "stdout",
     "output_type": "stream",
     "text": [
      "0 1 1 2 3 5 8 13 21 34 55 89 144 233 377 610 987 1597 \n"
     ]
    }
   ],
   "source": [
    "## 创建一个可以输出限定数值内的斐波那契数列函数：\n",
    "def fib(n):    # write Fibonacci series up to n\n",
    "    \"\"\"Print a Fibonacci series up to n.\"\"\"\n",
    "    a, b = 0, 1\n",
    "    while a < n:\n",
    "        print(a, end=' ')\n",
    "        a, b = b, a+b\n",
    "    print()\n",
    "# Now call the function we just defined:\n",
    "fib(2000)"
   ]
  },
  {
   "cell_type": "code",
   "execution_count": 19,
   "id": "b8f1fef1-fa9f-44cd-8bbd-cf050518d4df",
   "metadata": {},
   "outputs": [
    {
     "data": {
      "text/plain": [
       "<function __main__.fib(n)>"
      ]
     },
     "execution_count": 19,
     "metadata": {},
     "output_type": "execute_result"
    }
   ],
   "source": [
    "fib"
   ]
  },
  {
   "cell_type": "code",
   "execution_count": 20,
   "id": "ae7da6c1-90d9-47d2-92c9-b2e3b51e857d",
   "metadata": {},
   "outputs": [
    {
     "name": "stdout",
     "output_type": "stream",
     "text": [
      "0 1 1 2 3 5 8 13 21 34 55 89 \n"
     ]
    }
   ],
   "source": [
    "# 可以使用其他名称指向同一个函数对象，并访问访该函数\n",
    "f = fib\n",
    "f(100)"
   ]
  },
  {
   "cell_type": "code",
   "execution_count": 22,
   "id": "ee430f93-5bec-4f4d-a471-186a85c80d49",
   "metadata": {},
   "outputs": [
    {
     "name": "stdout",
     "output_type": "stream",
     "text": [
      "\n",
      "\n",
      "None\n"
     ]
    }
   ],
   "source": [
    "# 没有 return 的函数返回 None（是一个内置名称）\n",
    "fib(0)\n",
    "print(fib(0))"
   ]
  },
  {
   "cell_type": "code",
   "execution_count": 25,
   "id": "058e82b0-c96a-4b57-a4c1-d9236c50bddc",
   "metadata": {},
   "outputs": [
    {
     "data": {
      "text/plain": [
       "[0, 1, 1, 2, 3, 5, 8, 13, 21, 34, 55, 89]"
      ]
     },
     "execution_count": 25,
     "metadata": {},
     "output_type": "execute_result"
    }
   ],
   "source": [
    "# \n",
    "# return 语句返回函数的值。return 语句不带表达式参数时，返回 None。\n",
    "def fib2(n):  # return Fibonacci series up to n\n",
    "    \"\"\"Return a list containing the Fibonacci series up to n.\"\"\"\n",
    "    result = []\n",
    "    a, b = 0, 1\n",
    "    while a < n:\n",
    "        result.append(a)    # see below\n",
    "        a, b = b, a+b\n",
    "    return result\n",
    "f100 = fib2(100)    # call it\n",
    "f100                # write the result"
   ]
  },
  {
   "cell_type": "code",
   "execution_count": null,
   "id": "e7a2215a-3a80-4b92-ba93-f09ae175e5b8",
   "metadata": {},
   "outputs": [],
   "source": []
  },
  {
   "cell_type": "markdown",
   "id": "40f84635-c394-4442-bcf9-b9c794c39ae1",
   "metadata": {},
   "source": [
    "## 函数定义详解"
   ]
  },
  {
   "cell_type": "markdown",
   "id": "f7c46349-d04d-4a99-b9cc-fa0f7172b22e",
   "metadata": {},
   "source": [
    "### 默认值参数"
   ]
  },
  {
   "cell_type": "code",
   "execution_count": 29,
   "id": "15adcc8b-87f5-4554-830e-46eb67219935",
   "metadata": {},
   "outputs": [],
   "source": [
    "def ask_ok(prompt, retries=4, reminder='Please try again!'):\n",
    "    while True:\n",
    "        reply = input(prompt)\n",
    "        if reply in {'y', 'ye', 'yes'}:\n",
    "            return True\n",
    "        if reply in {'n', 'no', 'nop', 'nope'}:\n",
    "            return False\n",
    "            retries = retries - 1\n",
    "        if retries < 0:\n",
    "            raise ValueError('invalid user response')\n",
    "        print(reminder)\n",
    "\n",
    "# 只给出必选实参：   ask_ok('Do you really want to quit?')\n",
    "# 给出一个可选实参： ask_ok('OK to overwrite the file?', 2)\n",
    "# 给出所有实参：    ask_ok('OK to overwrite the file?', 2, 'Come on, only yes or no!')"
   ]
  },
  {
   "cell_type": "code",
   "execution_count": 30,
   "id": "449d15dc-ce07-405d-bb32-0accc8eaad68",
   "metadata": {},
   "outputs": [
    {
     "name": "stdout",
     "output_type": "stream",
     "text": [
      "5\n"
     ]
    }
   ],
   "source": [
    "# 默认值在 定义 作用域里的函数定义中求值：\n",
    "i = 5\n",
    "\n",
    "def f(arg=i):\n",
    "    print(arg)\n",
    "i = 6\n",
    "f()"
   ]
  },
  {
   "cell_type": "code",
   "execution_count": 32,
   "id": "17193626-f59e-4ff1-b53a-e51caddc092a",
   "metadata": {},
   "outputs": [
    {
     "name": "stdout",
     "output_type": "stream",
     "text": [
      "[1]\n",
      "[1, 2]\n",
      "[1, 2, 3]\n"
     ]
    }
   ],
   "source": [
    "# 重要警告：默认值只计算一次。默认值为列表、字典或类实例等可变对象时，会产生与该规则不同的结果。例如，下面的函数会累积后续调用时传递的参数：\n",
    "def f(a, L=[]):\n",
    "    L.append(a)\n",
    "    return L\n",
    "print(f(1))\n",
    "print(f(2))\n",
    "print(f(3))"
   ]
  },
  {
   "cell_type": "code",
   "execution_count": 33,
   "id": "b43ec67e-e5c7-4c1f-b505-24a8de1cb35c",
   "metadata": {},
   "outputs": [
    {
     "name": "stdout",
     "output_type": "stream",
     "text": [
      "[1]\n",
      "[2]\n",
      "[3]\n"
     ]
    }
   ],
   "source": [
    "# 不想在后续调用之间共享默认值时，应以如下方式编写函数：\n",
    "\n",
    "def f(a, L=None):\n",
    "    if L is None:\n",
    "        L = []\n",
    "    L.append(a)\n",
    "    return L\n",
    "print(f(1))\n",
    "print(f(2))\n",
    "print(f(3))"
   ]
  },
  {
   "cell_type": "markdown",
   "id": "8240243f-4264-4543-9f98-2e5a016d9c4e",
   "metadata": {},
   "source": [
    "### 关键字参数"
   ]
  },
  {
   "cell_type": "code",
   "execution_count": 35,
   "id": "7ec51385-78ba-44b4-887a-e56699703cf1",
   "metadata": {},
   "outputs": [
    {
     "name": "stdout",
     "output_type": "stream",
     "text": [
      "-- This parrot wouldn't voom if you put 1000 volts through it.\n",
      "-- Lovely plumage, the Norwegian Blue\n",
      "-- It's a stiff !\n",
      "-- This parrot wouldn't voom if you put 1000 volts through it.\n",
      "-- Lovely plumage, the Norwegian Blue\n",
      "-- It's a stiff !\n",
      "-- This parrot wouldn't VOOOOOM if you put 1000000 volts through it.\n",
      "-- Lovely plumage, the Norwegian Blue\n",
      "-- It's a stiff !\n",
      "-- This parrot wouldn't VOOOOOM if you put 1000000 volts through it.\n",
      "-- Lovely plumage, the Norwegian Blue\n",
      "-- It's a stiff !\n",
      "-- This parrot wouldn't jump if you put a million volts through it.\n",
      "-- Lovely plumage, the Norwegian Blue\n",
      "-- It's bereft of life !\n",
      "-- This parrot wouldn't voom if you put a thousand volts through it.\n",
      "-- Lovely plumage, the Norwegian Blue\n",
      "-- It's pushing up the daisies !\n"
     ]
    }
   ],
   "source": [
    "# kwarg=value 形式的 关键字参数 也可以用于调用函数。\n",
    "# 必选参数：voltage\n",
    "# 可选参数：state, action, type\n",
    "def parrot(voltage, state='a stiff', action='voom', type='Norwegian Blue'):\n",
    "    print(\"-- This parrot wouldn't\", action, end=' ')\n",
    "    print(\"if you put\", voltage, \"volts through it.\")\n",
    "    print(\"-- Lovely plumage, the\", type)\n",
    "    print(\"-- It's\", state, \"!\")\n",
    "# 调用方式\n",
    "parrot(1000)                                          # 1 positional argument\n",
    "parrot(voltage=1000)                                  # 1 keyword argument\n",
    "parrot(voltage=1000000, action='VOOOOOM')             # 2 keyword arguments\n",
    "parrot(action='VOOOOOM', voltage=1000000)             # 2 keyword arguments\n",
    "parrot('a million', 'bereft of life', 'jump')         # 3 positional arguments\n",
    "parrot('a thousand', state='pushing up the daisies')  # 1 positional, 1 keyword"
   ]
  },
  {
   "cell_type": "code",
   "execution_count": 36,
   "id": "a9308440-a27d-4cd1-be43-fd45739825fc",
   "metadata": {},
   "outputs": [
    {
     "ename": "SyntaxError",
     "evalue": "positional argument follows keyword argument (2650636048.py, line 3)",
     "output_type": "error",
     "traceback": [
      "\u001b[0;36m  Cell \u001b[0;32mIn[36], line 3\u001b[0;36m\u001b[0m\n\u001b[0;31m    parrot(voltage=5.0, 'dead')  # non-keyword argument after a keyword argument\u001b[0m\n\u001b[0m                        ^\u001b[0m\n\u001b[0;31mSyntaxError\u001b[0m\u001b[0;31m:\u001b[0m positional argument follows keyword argument\n"
     ]
    }
   ],
   "source": [
    "# 错误的调用方式\n",
    "parrot()                     # required argument missing\n",
    "parrot(voltage=5.0, 'dead')  # non-keyword argument after a keyword argument\n",
    "parrot(110, voltage=220)     # duplicate value for the same argument\n",
    "parrot(actor='John Cleese')  # unknown keyword argument"
   ]
  },
  {
   "cell_type": "code",
   "execution_count": null,
   "id": "487e1e09-ce7c-4548-bfa7-d51949cddaea",
   "metadata": {},
   "outputs": [],
   "source": []
  },
  {
   "cell_type": "code",
   "execution_count": 39,
   "id": "031646d2-6f3a-4702-8a75-c69a37d91e32",
   "metadata": {},
   "outputs": [
    {
     "name": "stdout",
     "output_type": "stream",
     "text": [
      "-- Do you have any Limburger ?\n",
      "-- I'm sorry, we're all out of Limburger\n",
      "It's very runny, sir.\n",
      "It's really very, VERY runny, sir.\n",
      "----------------------------------------\n",
      "shopkeeper : Michael Palin\n",
      "client : John Cleese\n",
      "sketch : Cheese Shop Sketch\n"
     ]
    }
   ],
   "source": [
    "# 最后一个形参为 **name 形式时，接收一个字典\n",
    "# *name 形参接收一个 元组\n",
    "# **name 形参可以与 *name 形参 组合使用（*name 必须在 **name 前面）\n",
    "def cheeseshop(kind, *arguments, **keywords):\n",
    "    print(\"-- Do you have any\", kind, \"?\")\n",
    "    print(\"-- I'm sorry, we're all out of\", kind)\n",
    "    for arg in arguments:\n",
    "        print(arg)\n",
    "    print(\"-\" * 40)\n",
    "    for kw in keywords:\n",
    "        print(kw, \":\", keywords[kw])\n",
    "# 调用方式\n",
    "cheeseshop(\"Limburger\", \"It's very runny, sir.\",\n",
    "           \"It's really very, VERY runny, sir.\",\n",
    "           shopkeeper=\"Michael Palin\",\n",
    "           client=\"John Cleese\",\n",
    "           sketch=\"Cheese Shop Sketch\"\n",
    "          )"
   ]
  },
  {
   "cell_type": "markdown",
   "id": "ce2bd022-426c-4552-9e6c-cf537ed012cf",
   "metadata": {},
   "source": [
    "### 特殊参数\n",
    "\n",
    "```python\n",
    "# / 仅限位置 参数：参数不能用关键字传递，仅限位置形参应放在 / 前，/ 后可以是位置或关键字 或 仅限关键字 形参。\n",
    "# * 仅限关键字 参数：在参数列表用第一个 仅限关键字形参前添加 * 。\n",
    "def f(pos1, pos2, /, pos_or_kwd, *, kwd1, kwd2):\n",
    "      -----------    ----------     ----------\n",
    "        |             |                  |\n",
    "        |        Positional or keyword   |\n",
    "        |                                - Keyword only\n",
    "         -- Positional only\n",
    "```"
   ]
  },
  {
   "cell_type": "code",
   "execution_count": 50,
   "id": "7534378f-ce0f-4cfb-b683-9b8c9d1aa097",
   "metadata": {},
   "outputs": [
    {
     "name": "stdout",
     "output_type": "stream",
     "text": [
      "2\n",
      "2\n",
      "1\n",
      "3\n",
      "1 2 3\n",
      "1 2 3\n"
     ]
    }
   ],
   "source": [
    "def standard_arg(arg):\n",
    "    print(arg)\n",
    "def pos_only_arg(arg, /):\n",
    "    print(arg)\n",
    "def kwd_only_arg(*, arg):\n",
    "    print(arg)\n",
    "def combined_example(pos_only, /, standard, *, kwd_only):\n",
    "    print(pos_only, standard, kwd_only)\n",
    "\n",
    "# 调用方式\n",
    "# 第一个函数可以按位置也可以按关键字传递参数\n",
    "standard_arg(2)\n",
    "standard_arg(arg=2)\n",
    "# 第二个函数定义中有 / ,仅限使用位置形参：\n",
    "pos_only_arg(1)\n",
    "# pos_only_arg(arg=1)\n",
    "# 第三个函数通过 * 表明仅限关键字参数：\n",
    "# kwd_only_arg(3)\n",
    "kwd_only_arg(arg=3)\n",
    "# 最后一个函数\n",
    "# combined_example(1, 2, 3)\n",
    "combined_example(1, 2, kwd_only=3)\n",
    "combined_example(1, standard=2, kwd_only=3)\n",
    "# combined_example(pos-only=1, standard=2, kwd_only=3)\n"
   ]
  },
  {
   "cell_type": "code",
   "execution_count": 58,
   "id": "cc61d698-bdb2-4855-9d4b-92d0dcf138bd",
   "metadata": {},
   "outputs": [
    {
     "ename": "TypeError",
     "evalue": "foo() got multiple values for argument 'name'",
     "output_type": "error",
     "traceback": [
      "\u001b[0;31m---------------------------------------------------------------------------\u001b[0m",
      "\u001b[0;31mTypeError\u001b[0m                                 Traceback (most recent call last)",
      "Cell \u001b[0;32mIn[58], line 5\u001b[0m\n\u001b[1;32m      3\u001b[0m \u001b[38;5;28;01mdef\u001b[39;00m \u001b[38;5;21mfoo\u001b[39m(name, \u001b[38;5;241m*\u001b[39m\u001b[38;5;241m*\u001b[39mkwds):\n\u001b[1;32m      4\u001b[0m     \u001b[38;5;28;01mreturn\u001b[39;00m \u001b[38;5;124m'\u001b[39m\u001b[38;5;124mname\u001b[39m\u001b[38;5;124m'\u001b[39m \u001b[38;5;129;01min\u001b[39;00m kwds\n\u001b[0;32m----> 5\u001b[0m \u001b[43mfoo\u001b[49m\u001b[43m(\u001b[49m\u001b[38;5;241;43m1\u001b[39;49m\u001b[43m,\u001b[49m\u001b[43m \u001b[49m\u001b[38;5;241;43m*\u001b[39;49m\u001b[38;5;241;43m*\u001b[39;49m\u001b[43m{\u001b[49m\u001b[38;5;124;43m'\u001b[39;49m\u001b[38;5;124;43mname\u001b[39;49m\u001b[38;5;124;43m'\u001b[39;49m\u001b[43m:\u001b[49m\u001b[43m \u001b[49m\u001b[38;5;241;43m2\u001b[39;49m\u001b[43m}\u001b[49m\u001b[43m)\u001b[49m\n",
      "\u001b[0;31mTypeError\u001b[0m: foo() got multiple values for argument 'name'"
     ]
    }
   ],
   "source": [
    "# kwds 把 name 当作键，因此，可能与位置参数 name 产生潜在冲突：\n",
    "# 调用该函数不可能返回 True，因为关键字 'name' 总与第一个形参绑定。例如：\n",
    "def foo(name, **kwds):\n",
    "    return 'name' in kwds\n",
    "foo(1, **{'name': 2})"
   ]
  },
  {
   "cell_type": "code",
   "execution_count": 57,
   "id": "c61e6d77-e720-41dc-95bb-2e4ba04f839b",
   "metadata": {},
   "outputs": [
    {
     "data": {
      "text/plain": [
       "True"
      ]
     },
     "execution_count": 57,
     "metadata": {},
     "output_type": "execute_result"
    }
   ],
   "source": [
    "# 加上 / （仅限位置参数）后，就可以了。此时，函数定义把 name 当作位置参数，'name' 也可以作为关键字参数的键：\n",
    "def foo(name, /, **kwds):\n",
    "    return 'name' in kwds\n",
    "foo(1, **{'name': 2})\n",
    "# 换句话说，仅限位置形参的名称可以在 **kwds 中使用，而不产生歧义。"
   ]
  },
  {
   "cell_type": "markdown",
   "id": "4fde61f1-1156-43ce-8ad5-b7421cba492a",
   "metadata": {},
   "source": [
    "### 任意实参列表"
   ]
  },
  {
   "cell_type": "code",
   "execution_count": null,
   "id": "c60ea400-8368-4cd7-9a7d-c7e8441d4fd0",
   "metadata": {},
   "outputs": [],
   "source": [
    "# 这些实参包含在元组中。\n",
    "def write_multiple_items(file, separator, *args):\n",
    "    file.write(separator.join(args))"
   ]
  },
  {
   "cell_type": "code",
   "execution_count": 64,
   "id": "531065f9-dfc8-4abf-ac49-ab95ebcdf687",
   "metadata": {},
   "outputs": [
    {
     "name": "stdout",
     "output_type": "stream",
     "text": [
      "earth/mars/venus\n",
      "earth.mars.venus\n"
     ]
    }
   ],
   "source": [
    "# *args 形参后的任何形式参数只能是仅限关键字参数，即只能用作关键字参数，不能用作位置参数：\n",
    "def concat(*args, sep=\"/\"):\n",
    "    return sep.join(args)\n",
    "print(concat(\"earth\", \"mars\", \"venus\"))\n",
    "print(concat(\"earth\", \"mars\", \"venus\", sep=\".\"))"
   ]
  },
  {
   "cell_type": "markdown",
   "id": "90792d88-3dda-4fbf-a3d6-7adb9af33718",
   "metadata": {},
   "source": [
    "### 解包实参列表"
   ]
  },
  {
   "cell_type": "code",
   "execution_count": 68,
   "id": "2e13c622-66b7-4e28-90b5-e394315aa7a5",
   "metadata": {},
   "outputs": [
    {
     "name": "stdout",
     "output_type": "stream",
     "text": [
      "[3, 4, 5]\n"
     ]
    },
    {
     "data": {
      "text/plain": [
       "[3, 4, 5]"
      ]
     },
     "execution_count": 68,
     "metadata": {},
     "output_type": "execute_result"
    }
   ],
   "source": [
    "# 函数调用要求独立的位置参数，但实参在列表或元组里时，要执行相反的操作。\n",
    "# 例如 range() 函数要求独立的 start 和 stop 实参。\n",
    "print(list(range(3, 6)))\n",
    "# 用 * 操作符把实参从列表或元组解包出来：\n",
    "args = [3, 6]\n",
    "list(range(*args))"
   ]
  },
  {
   "cell_type": "code",
   "execution_count": 69,
   "id": "e3a778c9-f5a8-4eae-99b4-bfb935fedee2",
   "metadata": {},
   "outputs": [
    {
     "name": "stdout",
     "output_type": "stream",
     "text": [
      "-- This parrot wouldn't VOOM if you put four million volts through it. E's bleedin' demised !\n"
     ]
    }
   ],
   "source": [
    "# 字典可以用 ** 操作符传递关键字参数：\n",
    "def parrot(voltage, state='a stiff', action='voom'):\n",
    "    print(\"-- This parrot wouldn't\", action, end=' ')\n",
    "    print(\"if you put\", voltage, \"volts through it.\", end=' ')\n",
    "    print(\"E's\", state, \"!\")\n",
    "d = {\"voltage\": \"four million\", \"state\": \"bleedin' demised\", \"action\": \"VOOM\"}\n",
    "parrot(**d)"
   ]
  },
  {
   "cell_type": "markdown",
   "id": "1e39144b-1903-4398-b15a-8af7b5befc95",
   "metadata": {},
   "source": [
    "### Lambda 表达式\n",
    "\n",
    "lambda 关键字用于创建小巧的匿名函数。\n",
    "\n",
    "`lambda a, b: a+b` 函数返回两个参数的和。\n",
    "\n",
    "Lambda 函数可用于任何需要函数对象的地方。在语法上，匿名函数只能是单个表达式。在语义上，它只是常规函数定义的语法糖。与嵌套函数定义一样，lambda 函数可以引用包含作用域中的变量："
   ]
  },
  {
   "cell_type": "code",
   "execution_count": 77,
   "id": "aba15b4e-bd57-4c6d-acdc-95f4c551dd84",
   "metadata": {},
   "outputs": [
    {
     "name": "stdout",
     "output_type": "stream",
     "text": [
      "42\n",
      "43\n"
     ]
    }
   ],
   "source": [
    "# 用 lambda 表达式返回函数\n",
    "def make_incrementor(n):\n",
    "    return lambda x: x + n\n",
    "f = make_incrementor(42)\n",
    "print(f(0))\n",
    "print(f(1))"
   ]
  },
  {
   "cell_type": "code",
   "execution_count": 78,
   "id": "064756e2-80a0-4072-8cf2-aa24121cadec",
   "metadata": {},
   "outputs": [
    {
     "data": {
      "text/plain": [
       "[(4, 'four'), (1, 'one'), (3, 'three'), (2, 'two')]"
      ]
     },
     "execution_count": 78,
     "metadata": {},
     "output_type": "execute_result"
    }
   ],
   "source": [
    "# 把匿名函数用作传递的实参：\n",
    "pairs = [(1, 'one'), (2, 'two'), (3, 'three'), (4, 'four')]\n",
    "pairs.sort(key=lambda pair: pair[1])\n",
    "pairs"
   ]
  },
  {
   "cell_type": "markdown",
   "id": "4c54b4cc-58b2-4fac-b549-c50e24048c59",
   "metadata": {},
   "source": [
    "### 文档字符串\n",
    "\n",
    "第一行应为对象用途的简短摘要。\n",
    "\n",
    "文档字符串为多行时，第二行应为空白行，在视觉上将摘要与其余描述分开。\n"
   ]
  },
  {
   "cell_type": "code",
   "execution_count": 79,
   "id": "4f523717-e368-4cc5-b57c-1a8dd16e5d57",
   "metadata": {},
   "outputs": [
    {
     "name": "stdout",
     "output_type": "stream",
     "text": [
      "Do nothing, but document it.\n",
      "\n",
      "    No, really, it doesn't do anything.\n",
      "    \n"
     ]
    }
   ],
   "source": [
    "def my_function():\n",
    "    \"\"\"Do nothing, but document it.\n",
    "\n",
    "    No, really, it doesn't do anything.\n",
    "    \"\"\"\n",
    "    pass\n",
    "\n",
    "print(my_function.__doc__)"
   ]
  },
  {
   "cell_type": "markdown",
   "id": "5347efe7-085a-4a6f-b533-94ca94e8351c",
   "metadata": {},
   "source": [
    "### 函数注解\n",
    "\n",
    "函数注解 是可选的用户自定义函数类型的元数据完整信息。\n",
    "\n",
    "标注 以字典的形式存放在函数的 __annotations__ 属性中而对函数的其他部分没有影响。\n",
    "\n",
    "形参标注的定义方式是在形参名后加冒号，后面跟一个会被求值为标注的值的表达式。\n",
    "\n",
    "返回值标注的定义方式是加组合符号 ->，后面跟一个表达式，这样的校注位于形参列表和表示 def 语句结束的冒号。"
   ]
  },
  {
   "cell_type": "code",
   "execution_count": 83,
   "id": "ba427527-a686-4fe1-8906-ffe647e6aa2f",
   "metadata": {},
   "outputs": [
    {
     "name": "stdout",
     "output_type": "stream",
     "text": [
      "Annotations: {'ham': <class 'str'>, 'eggs': <class 'str'>, 'return': <class 'str'>}\n",
      "Arguments: spam eggs\n"
     ]
    },
    {
     "data": {
      "text/plain": [
       "'spam and eggs'"
      ]
     },
     "execution_count": 83,
     "metadata": {},
     "output_type": "execute_result"
    }
   ],
   "source": [
    "# 下面的示例有一个必须的参数、一个可选的关键字参数以及返回值都带有相应的标注:\n",
    "def f(ham: str, eggs: str = 'eggs') -> str:\n",
    "    print(\"Annotations:\", f.__annotations__)\n",
    "    print(\"Arguments:\", ham, eggs)\n",
    "    return ham + ' and ' + eggs\n",
    "f('spam')"
   ]
  },
  {
   "cell_type": "markdown",
   "id": "0f984394-140b-49d6-9fa1-12206c69e50f",
   "metadata": {},
   "source": [
    "# 编码风格\n",
    "\n",
    "缩进：用 4 个空格，不要用制表符。\n",
    "\n",
    "换行：一行不超过 79 个字符。这样换行的小屏阅读体验更好，还便于在大屏显示器上并排阅读多个代码文件。\n",
    "\n",
    "分隔：用空行分隔函数和类，及函数内较大的代码块。\n",
    "\n",
    "注释：最好把注释放到单独一行。\n",
    "\n",
    "空格：运算符前后、逗号后要用空格，但不要直接在括号内使用： a = f(1, 2) + g(3, 4)。\n",
    "\n",
    "命名：类和函数的命名要一致；按惯例，命名类用 UpperCamelCase，命名函数与方法用 lowercase_with_underscores。命名方法中第一个参数总是用 self。\n",
    "\n",
    "\n"
   ]
  }
 ],
 "metadata": {
  "kernelspec": {
   "display_name": "Python 3 (ipykernel)",
   "language": "python",
   "name": "python3"
  },
  "language_info": {
   "codemirror_mode": {
    "name": "ipython",
    "version": 3
   },
   "file_extension": ".py",
   "mimetype": "text/x-python",
   "name": "python",
   "nbconvert_exporter": "python",
   "pygments_lexer": "ipython3",
   "version": "3.8.4"
  }
 },
 "nbformat": 4,
 "nbformat_minor": 5
}
