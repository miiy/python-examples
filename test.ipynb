{
 "cells": [
  {
   "cell_type": "code",
   "execution_count": 3,
   "id": "initial_id",
   "metadata": {
    "collapsed": true,
    "ExecuteTime": {
     "end_time": "2024-01-08T09:07:45.798103Z",
     "start_time": "2024-01-08T09:07:45.770799Z"
    }
   },
   "outputs": [
    {
     "data": {
      "text/plain": "'goodbye'"
     },
     "execution_count": 3,
     "metadata": {},
     "output_type": "execute_result"
    }
   ],
   "source": [
    "# 带条件判断的赋值语句\n",
    "str = \"hello\" if True else \"goodbye\"\n",
    "str"
   ]
  },
  {
   "cell_type": "code",
   "execution_count": 9,
   "outputs": [
    {
     "name": "stdout",
     "output_type": "stream",
     "text": [
      "1\n"
     ]
    }
   ],
   "source": [
    "words = ['apple', 'banana', 'orange']\n",
    "target = 'I like apples and oranges.'\n",
    "if any(word in target for word in words):\n",
    "    print(1)\n",
    "else:\n",
    "    print(2)"
   ],
   "metadata": {
    "collapsed": false,
    "ExecuteTime": {
     "end_time": "2024-01-08T09:16:03.948239Z",
     "start_time": "2024-01-08T09:16:03.912640Z"
    }
   },
   "id": "71bd4bc1dac273ce"
  },
  {
   "cell_type": "code",
   "execution_count": null,
   "outputs": [],
   "source": [],
   "metadata": {
    "collapsed": false
   },
   "id": "59a16918e1380968"
  }
 ],
 "metadata": {
  "kernelspec": {
   "display_name": "Python 3",
   "language": "python",
   "name": "python3"
  },
  "language_info": {
   "codemirror_mode": {
    "name": "ipython",
    "version": 2
   },
   "file_extension": ".py",
   "mimetype": "text/x-python",
   "name": "python",
   "nbconvert_exporter": "python",
   "pygments_lexer": "ipython2",
   "version": "2.7.6"
  }
 },
 "nbformat": 4,
 "nbformat_minor": 5
}
