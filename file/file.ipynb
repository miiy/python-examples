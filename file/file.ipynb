{
 "cells": [
  {
   "cell_type": "markdown",
   "id": "7005ecc0-90d2-4e86-8882-77356ba9a400",
   "metadata": {},
   "source": [
    "## 读取整个文件"
   ]
  },
  {
   "cell_type": "code",
   "execution_count": 6,
   "id": "5f059fb2-df03-4be8-a136-1364379e3304",
   "metadata": {},
   "outputs": [
    {
     "name": "stdout",
     "output_type": "stream",
     "text": [
      "3.1415926535\n",
      "  8979323846\n",
      "  2643383279\n"
     ]
    }
   ],
   "source": [
    "# file_reader.py\n",
    "# 关键字 with 在不再需要访问文件后将其关闭。\n",
    "with open('pi_digits.txt') as file_object:\n",
    "    contents = file_object.read()\n",
    "    print(contents)"
   ]
  },
  {
   "cell_type": "markdown",
   "id": "361465f5-0267-4448-8e8e-cdade68cb669",
   "metadata": {},
   "source": [
    "## 逐行读取"
   ]
  },
  {
   "cell_type": "code",
   "execution_count": 8,
   "id": "7e1ae915-23b5-4251-b1b3-1665ab1ae018",
   "metadata": {},
   "outputs": [
    {
     "name": "stdout",
     "output_type": "stream",
     "text": [
      "3.1415926535\n",
      "\n",
      "  8979323846\n",
      "\n",
      "  2643383279\n"
     ]
    }
   ],
   "source": [
    "filename = 'pi_digits.txt'\n",
    "\n",
    "with open(filename) as file_object:\n",
    "    for line in file_object:\n",
    "        print(line)\n",
    "# 每行的末尾都有一个换行符，print语句也会加上一个换行符，因此每行末尾都有两个换行符"
   ]
  },
  {
   "cell_type": "code",
   "execution_count": 10,
   "id": "d683f803-428e-4914-8ab2-3c62e106ba76",
   "metadata": {},
   "outputs": [
    {
     "name": "stdout",
     "output_type": "stream",
     "text": [
      "3.1415926535\n",
      "  8979323846\n",
      "  2643383279\n"
     ]
    }
   ],
   "source": [
    "filename = 'pi_digits.txt'\n",
    "\n",
    "with open(filename) as file_object:\n",
    "    for line in file_object:\n",
    "        print(line.rstrip())\n",
    "# 使用 rstrip() 消除多余的空白行"
   ]
  },
  {
   "cell_type": "markdown",
   "id": "25c04160-aed0-48b1-ba7c-68613553db5c",
   "metadata": {},
   "source": [
    "## 创建一个包含文件各行内容的列表"
   ]
  },
  {
   "cell_type": "code",
   "execution_count": 12,
   "id": "17f2f5b4-878c-422b-a499-610d328cc3ba",
   "metadata": {},
   "outputs": [
    {
     "name": "stdout",
     "output_type": "stream",
     "text": [
      "3.1415926535\n",
      "  8979323846\n",
      "  2643383279\n"
     ]
    }
   ],
   "source": [
    "filename = 'pi_digits.txt'\n",
    "\n",
    "with open(filename) as file_object:\n",
    "    lines = file_object.readlines()\n",
    "\n",
    "for line in lines:\n",
    "    print(line.rstrip())"
   ]
  },
  {
   "cell_type": "markdown",
   "id": "aa6d8355-0ba2-434e-b23a-a3d124a9aa03",
   "metadata": {},
   "source": [
    "## 使用文件的内容"
   ]
  },
  {
   "cell_type": "code",
   "execution_count": 13,
   "id": "2db60409-0393-44e9-b02f-348cc989018c",
   "metadata": {},
   "outputs": [
    {
     "name": "stdout",
     "output_type": "stream",
     "text": [
      "3.1415926535  8979323846  2643383279\n",
      "36\n"
     ]
    }
   ],
   "source": [
    "filename = 'pi_digits.txt'\n",
    "\n",
    "with open(filename) as file_object:\n",
    "    lines = file_object.readlines()\n",
    "\n",
    "pi_string = ''\n",
    "for line in lines:\n",
    "    pi_string += line.rstrip()\n",
    "\n",
    "print(pi_string)\n",
    "print(len(pi_string))"
   ]
  },
  {
   "cell_type": "code",
   "execution_count": 16,
   "id": "fb7e9857-5d12-4226-963c-8cb2b9107ca8",
   "metadata": {},
   "outputs": [
    {
     "name": "stdout",
     "output_type": "stream",
     "text": [
      "3.141592653589793238462643383279\n",
      "32\n"
     ]
    }
   ],
   "source": [
    "# 使用 strip() 删除空格\n",
    "filename = 'pi_digits.txt'\n",
    "\n",
    "with open(filename) as file_object:\n",
    "    lines = file_object.readlines()\n",
    "\n",
    "pi_string = ''\n",
    "for line in lines:\n",
    "    pi_string += line.strip()\n",
    "\n",
    "print(pi_string)\n",
    "print(len(pi_string))"
   ]
  },
  {
   "cell_type": "markdown",
   "id": "9340ba50-d9c2-497a-83e1-621ad77e7cae",
   "metadata": {},
   "source": [
    "## 包含一百万位的大型文件"
   ]
  },
  {
   "cell_type": "code",
   "execution_count": 17,
   "id": "faadd55a-91bb-4407-bde8-cc5056a29a28",
   "metadata": {},
   "outputs": [
    {
     "name": "stdout",
     "output_type": "stream",
     "text": [
      "3.14159265358979323846264338327950288419716939937510...\n",
      "52\n"
     ]
    }
   ],
   "source": [
    "filename = 'pi_million_digits.txt'\n",
    "\n",
    "with open(filename) as file_object:\n",
    "    lines = file_object.readlines()\n",
    "\n",
    "pi_string = ''\n",
    "for line in lines:\n",
    "    pi_string += line.strip()\n",
    "\n",
    "print(pi_string[:52] + \"...\")\n",
    "print(len(pi_string))"
   ]
  },
  {
   "cell_type": "markdown",
   "id": "2110456d-427b-48a7-bd30-20faeafe8420",
   "metadata": {},
   "source": [
    "## 写入文件"
   ]
  },
  {
   "cell_type": "code",
   "execution_count": 18,
   "id": "2d228ee3-7b06-459e-91f3-4e460a0d6748",
   "metadata": {},
   "outputs": [],
   "source": [
    "filename = 'programming.txt'\n",
    "\n",
    "with open(filename, 'w') as file_object:\n",
    "    file_object.write(\"I love programming.\")"
   ]
  },
  {
   "cell_type": "markdown",
   "id": "018abbb3-1dfb-4bba-bfc0-20a38179d0a5",
   "metadata": {},
   "source": [
    "## 写入多行"
   ]
  },
  {
   "cell_type": "code",
   "execution_count": 20,
   "id": "7361d8cd-1a17-4626-be0a-ce0f91f57aa0",
   "metadata": {},
   "outputs": [],
   "source": [
    "filename = 'programming.txt'\n",
    "\n",
    "with open(filename, 'w') as file_object:\n",
    "    file_object.write(\"I love programming.\\n\")\n",
    "    file_object.write(\"I love creating new games.\\n\")"
   ]
  },
  {
   "cell_type": "markdown",
   "id": "117326bf-f7fa-41ab-a35f-61710a635f1d",
   "metadata": {},
   "source": [
    "## 附加到文件"
   ]
  },
  {
   "cell_type": "code",
   "execution_count": 21,
   "id": "f698d88e-11e5-44aa-b40c-4f626eb04a0d",
   "metadata": {},
   "outputs": [],
   "source": [
    "filename = 'programming.txt'\n",
    "\n",
    "with open(filename, 'a') as file_object:\n",
    "    file_object.write(\"I also love finding meaning in large datasets.\\n\")\n",
    "    file_object.write(\"I love creating apps that can run in a browser.\\n\")"
   ]
  }
 ],
 "metadata": {
  "kernelspec": {
   "display_name": "Python 3 (ipykernel)",
   "language": "python",
   "name": "python3"
  },
  "language_info": {
   "codemirror_mode": {
    "name": "ipython",
    "version": 3
   },
   "file_extension": ".py",
   "mimetype": "text/x-python",
   "name": "python",
   "nbconvert_exporter": "python",
   "pygments_lexer": "ipython3",
   "version": "3.12.1"
  }
 },
 "nbformat": 4,
 "nbformat_minor": 5
}
