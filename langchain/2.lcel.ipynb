{
 "cells": [
  {
   "cell_type": "markdown",
   "source": [
    "## Basic example: prompt + model + output parser"
   ],
   "metadata": {
    "collapsed": false
   },
   "id": "14e3e14cc9206462"
  },
  {
   "cell_type": "code",
   "execution_count": 6,
   "outputs": [],
   "source": [
    "# 设置环境变量\n",
    "import os\n",
    "os.environ[\"OPENAI_API_KEY\"]= \"sk-...\"\n",
    "os.environ[\"HTTPS_PROXY\"]= \"http://127.0.0.1:7890\""
   ],
   "metadata": {
    "collapsed": false,
    "ExecuteTime": {
     "end_time": "2023-12-26T11:33:00.773414Z",
     "start_time": "2023-12-26T11:33:00.765374Z"
    }
   },
   "id": "32a37c405747989e"
  },
  {
   "cell_type": "code",
   "execution_count": 7,
   "outputs": [
    {
     "data": {
      "text/plain": "\"Why did the ice cream go to therapy?\\n\\nBecause it had too many toppings and couldn't handle the sprinkles!\""
     },
     "execution_count": 7,
     "metadata": {},
     "output_type": "execute_result"
    }
   ],
   "source": [
    "from langchain.chat_models import ChatOpenAI\n",
    "from langchain.prompts import ChatPromptTemplate\n",
    "from langchain_core.output_parsers import StrOutputParser\n",
    "\n",
    "prompt = ChatPromptTemplate.from_template(\"tell me a short joke about {topic}\")\n",
    "model = ChatOpenAI()\n",
    "output_parser = StrOutputParser()\n",
    "\n",
    "chain = prompt | model | output_parser\n",
    "chain.invoke({\"topic\": \"ice cream\"})"
   ],
   "metadata": {
    "collapsed": false,
    "ExecuteTime": {
     "end_time": "2023-12-26T11:33:05.578810Z",
     "start_time": "2023-12-26T11:33:02.583076Z"
    }
   },
   "id": "8ca3501f6eb37a2b"
  },
  {
   "cell_type": "markdown",
   "source": [
    "| 符号类似于 unix 管道运算符，它将不同的组件链接在一起，将一个组件的输出作为下一个组件的输入。"
   ],
   "metadata": {
    "collapsed": false
   },
   "id": "eeff6b13c51bbe1e"
  },
  {
   "cell_type": "markdown",
   "source": [
    "## 1.Prompt"
   ],
   "metadata": {
    "collapsed": false
   },
   "id": "71d1ec233b581f92"
  },
  {
   "cell_type": "code",
   "execution_count": 8,
   "outputs": [
    {
     "data": {
      "text/plain": "ChatPromptValue(messages=[HumanMessage(content='tell me a short joke about ice cream')])"
     },
     "execution_count": 8,
     "metadata": {},
     "output_type": "execute_result"
    }
   ],
   "source": [
    "prompt_value = prompt.invoke({\"topic\": \"ice cream\"})\n",
    "prompt_value"
   ],
   "metadata": {
    "collapsed": false,
    "ExecuteTime": {
     "end_time": "2023-12-26T11:35:29.180Z",
     "start_time": "2023-12-26T11:35:29.141565Z"
    }
   },
   "id": "675fded5d9e69c93"
  },
  {
   "cell_type": "code",
   "execution_count": null,
   "outputs": [],
   "source": [],
   "metadata": {
    "collapsed": false
   },
   "id": "f4c239370ed68282"
  }
 ],
 "metadata": {
  "kernelspec": {
   "display_name": "Python 3",
   "language": "python",
   "name": "python3"
  },
  "language_info": {
   "codemirror_mode": {
    "name": "ipython",
    "version": 2
   },
   "file_extension": ".py",
   "mimetype": "text/x-python",
   "name": "python",
   "nbconvert_exporter": "python",
   "pygments_lexer": "ipython2",
   "version": "2.7.6"
  }
 },
 "nbformat": 4,
 "nbformat_minor": 5
}
